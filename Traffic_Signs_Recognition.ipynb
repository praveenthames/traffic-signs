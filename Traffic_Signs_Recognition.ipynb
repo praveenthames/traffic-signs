{
 "cells": [
  {
   "cell_type": "markdown",
   "metadata": {},
   "source": [
    "# Self-Driving Car Engineer Nanodegree\n",
    "\n",
    "## Deep Learning\n",
    "\n",
    "## Project: Build a Traffic Sign Recognition Classifier\n",
    "\n",
    "In this notebook, a template is provided for you to implement your functionality in stages which is required to successfully complete this project. If additional code is required that cannot be included in the notebook, be sure that the Python code is successfully imported and included in your submission, if necessary. Sections that begin with **'Implementation'** in the header indicate where you should begin your implementation for your project. Note that some sections of implementation are optional, and will be marked with **'Optional'** in the header.\n",
    "\n",
    "In addition to implementing code, there will be questions that you must answer which relate to the project and your implementation. Each section where you will answer a question is preceded by a **'Question'** header. Carefully read each question and provide thorough answers in the following text boxes that begin with **'Answer:'**. Your project submission will be evaluated based on your answers to each of the questions and the implementation you provide.\n",
    "\n",
    ">**Note:** Code and Markdown cells can be executed using the **Shift + Enter** keyboard shortcut. In addition, Markdown cells can be edited by typically double-clicking the cell to enter edit mode."
   ]
  },
  {
   "cell_type": "markdown",
   "metadata": {},
   "source": [
    "---\n",
    "\n",
    "## Step 1: Dataset Exploration\n",
    "\n",
    "Visualize the German Traffic Signs Dataset. This is open ended, some suggestions include: plotting traffic signs images, plotting the count of each sign, etc. Be creative!\n",
    "\n",
    "\n",
    "The pickled data is a dictionary with 4 key/value pairs:\n",
    "\n",
    "- features -> the images pixel values, (width, height, channels)\n",
    "- labels -> the label of the traffic sign\n",
    "- sizes -> the original width and height of the image, (width, height)\n",
    "- coords -> coordinates of a bounding box around the sign in the image, (x1, y1, x2, y2)"
   ]
  },
  {
   "cell_type": "code",
   "execution_count": 15,
   "metadata": {
    "collapsed": false
   },
   "outputs": [],
   "source": [
    "# Load pickled data\n",
    "import pickle\n",
    "\n",
    "# TODO: fill this in based on where you saved the training and testing data\n",
    "training_file = '/Users/praveen.subramanian/data/carnd/p2/traffic-signs-data/train.p'\n",
    "testing_file = '/Users/praveen.subramanian/data/carnd/p2/traffic-signs-data/test.p'\n",
    "\n",
    "with open(training_file, mode='rb') as f:\n",
    "    train = pickle.load(f)\n",
    "with open(testing_file, mode='rb') as f:\n",
    "    test = pickle.load(f)\n",
    "    \n",
    "X_train, y_train = train['features'], train['labels']\n",
    "X_test, y_test = test['features'], test['labels']"
   ]
  },
  {
   "cell_type": "code",
   "execution_count": 16,
   "metadata": {
    "collapsed": false
   },
   "outputs": [
    {
     "name": "stdout",
     "output_type": "stream",
     "text": [
      "Number of training examples = 39209\n",
      "Number of testing examples = 12630\n",
      "Image data shape = (32, 32, 3)\n",
      "Number of classes = 43\n"
     ]
    }
   ],
   "source": [
    "### To start off let's do a basic data summary.\n",
    "\n",
    "# TODO: number of training examples\n",
    "n_train = X_train.shape[0]\n",
    "\n",
    "# TODO: number of testing examples\n",
    "n_test = X_test.shape[0]\n",
    "\n",
    "# TODO: what's the shape of an image?\n",
    "image_shape = X_train[0].shape\n",
    "\n",
    "# TODO: how many classes are in the dataset\n",
    "n_classes = len(set(y_train))\n",
    "\n",
    "print(\"Number of training examples =\", n_train)\n",
    "print(\"Number of testing examples =\", n_test)\n",
    "print(\"Image data shape =\", image_shape)\n",
    "print(\"Number of classes =\", n_classes)"
   ]
  },
  {
   "cell_type": "code",
   "execution_count": 17,
   "metadata": {
    "collapsed": false
   },
   "outputs": [
    {
     "name": "stdout",
     "output_type": "stream",
     "text": [
      "Image data = (39209, 32, 32, 3)\n"
     ]
    }
   ],
   "source": [
    "### Data exploration visualization goes here.\n",
    "### Feel free to use as many code cells as needed.\n",
    "print(\"Image data =\", X_train.shape)\n",
    "#print(\"Image data =\", X_train[0][0])\n"
   ]
  },
  {
   "cell_type": "markdown",
   "metadata": {},
   "source": [
    "----\n",
    "\n",
    "## Step 2: Design and Test a Model Architecture\n",
    "\n",
    "Design and implement a deep learning model that learns to recognize traffic signs. Train and test your model on the [German Traffic Sign Dataset](http://benchmark.ini.rub.de/?section=gtsrb&subsection=dataset).\n",
    "\n",
    "There are various aspects to consider when thinking about this problem:\n",
    "\n",
    "- Your model can be derived from a deep feedforward net or a deep convolutional network.\n",
    "- Play around preprocessing techniques (normalization, rgb to grayscale, etc)\n",
    "- Number of examples per label (some have more than others).\n",
    "- Generate fake data.\n",
    "\n",
    "Here is an example of a [published baseline model on this problem](http://yann.lecun.com/exdb/publis/pdf/sermanet-ijcnn-11.pdf). It's not required to be familiar with the approach used in the paper but, it's good practice to try to read papers like these."
   ]
  },
  {
   "cell_type": "markdown",
   "metadata": {},
   "source": [
    "### Implementation\n",
    "\n",
    "Use the code cell (or multiple code cells, if necessary) to implement the first step of your project. Once you have completed your implementation and are satisfied with the results, be sure to thoroughly answer the questions that follow."
   ]
  },
  {
   "cell_type": "code",
   "execution_count": 18,
   "metadata": {
    "collapsed": false
   },
   "outputs": [
    {
     "name": "stdout",
     "output_type": "stream",
     "text": [
      "(32, 32, 3)\n",
      "(39209, 1024)\n",
      "(12630, 1024)\n",
      "Tests Passed!\n"
     ]
    }
   ],
   "source": [
    "### Preprocess the data here.\n",
    "### Feel free to use as many code cells as needed.\n",
    "import numpy as np\n",
    "from PIL import Image\n",
    "from sklearn.model_selection import train_test_split\n",
    "from sklearn.preprocessing import LabelBinarizer\n",
    "from sklearn.utils import resample\n",
    "import cv2\n",
    "\n",
    "#abc = np.squeeze(X_train,2)\n",
    "#https://www.mathworks.com/matlabcentral/answers/99136-how-do-i-convert-my-rgb-image-to-grayscale-without-using-the-image-processing-toolbox?requestedDomain=www.mathworks.com\n",
    "print(X_train[0].shape)\n",
    "#gray = 0.2989 * X_train[:,:,:,0] + 0.5870 * X_train[:,:,:,1] + 0.1140 * X_train[:,:,:,2]; \n",
    "#print(gray)\n",
    "\n",
    "gray = np.zeros((n_train,1024))\n",
    "for i in range(n_train):\n",
    "    gray[i] = cv2.cvtColor( X_train[i], cv2.COLOR_BGR2GRAY ).flatten()\n",
    "    \n",
    "print(gray.shape)\n",
    "\n",
    "#reshape\n",
    "#gray = np.arange(40150016).reshape((39209,1024))\n",
    "\n",
    "test_gray = np.zeros((n_test,1024))\n",
    "for i in range(n_test):\n",
    "    test_gray[i] = cv2.cvtColor( X_test[i], cv2.COLOR_BGR2GRAY ).flatten()\n",
    "    \n",
    "print(test_gray.shape)\n",
    "#test_gray = 0.2989 * X_test[:,:,:,0] + 0.5870 * X_test[:,:,:,1] + 0.1140 * X_test[:,:,:,2]; \n",
    "#print(test_gray[0][0])\n",
    "\n",
    "\n",
    "#reshape\n",
    "#test_gray = np.arange(12933120).reshape((12630,1024))\n",
    "\n",
    "def normalize_greyscale(image_data):\n",
    "\n",
    "    \"\"\"Normalize the image data with Min-Max scaling to a range of [0.1, 0.9]\n",
    "    :param image_data: The image data to be normalized\n",
    "    :return: Normalized image data\"\"\"\n",
    "\n",
    "    min_max_scale = 0.1 + ((image_data-0)*(0.8))/(255 - 0)\n",
    "    return min_max_scale\n",
    "\n",
    "gray = normalize_greyscale(gray)\n",
    "print('Tests Passed!')\n"
   ]
  },
  {
   "cell_type": "code",
   "execution_count": 19,
   "metadata": {
    "collapsed": false
   },
   "outputs": [
    {
     "name": "stdout",
     "output_type": "stream",
     "text": [
      "Labels One-Hot Encoded\n"
     ]
    }
   ],
   "source": [
    "is_labels_encod = False\n",
    "if not is_labels_encod:\n",
    "    # Turn labels into numbers and apply One-Hot Encoding\n",
    "    encoder = LabelBinarizer()\n",
    "    encoder.fit(y_train)\n",
    "    y_train = encoder.transform(y_train)\n",
    "    y_test = encoder.transform(y_test)\n",
    "\n",
    "    # Change to float32, so it can be multiplied against the features in TensorFlow, which are float32\n",
    "    y_train = y_train.astype(np.float32)\n",
    "    y_test = y_test.astype(np.float32)\n",
    "    is_labels_encod = True\n",
    "\n",
    "print('Labels One-Hot Encoded')"
   ]
  },
  {
   "cell_type": "code",
   "execution_count": 20,
   "metadata": {
    "collapsed": false
   },
   "outputs": [
    {
     "name": "stdout",
     "output_type": "stream",
     "text": [
      "Training features and labels randomized and split.\n",
      "(37248, 1024)\n",
      "(37248, 43)\n",
      "(1961, 1024)\n",
      "(1961, 43)\n",
      "(12630, 1024)\n"
     ]
    }
   ],
   "source": [
    "# Get randomized datasets for training and validation\n",
    "train_features, valid_features, train_labels, valid_labels = train_test_split(\n",
    "    gray,\n",
    "    y_train,\n",
    "    test_size=0.05,\n",
    "    random_state=832289)\n",
    "\n",
    "print('Training features and labels randomized and split.')\n",
    "print(train_features.shape)\n",
    "print(train_labels.shape)\n",
    "print(valid_features.shape)\n",
    "print(valid_labels.shape)\n",
    "print(test_gray.shape)\n"
   ]
  },
  {
   "cell_type": "code",
   "execution_count": 21,
   "metadata": {
    "collapsed": false
   },
   "outputs": [],
   "source": [
    "import tensorflow as tf\n",
    "\n",
    "features_count = 1024\n",
    "labels_count = 43\n",
    "\n",
    "# ToDo: Set the features and labels tensors\n",
    "features = tf.placeholder(tf.float32)\n",
    "labels = tf.placeholder(tf.float32)\n",
    "\n",
    "# ToDo: Set the weights and biases tensors\n",
    "weights = tf.Variable(tf.truncated_normal([features_count,labels_count]))\n",
    "biases = tf.Variable(tf.zeros([labels_count], tf.float32))\n"
   ]
  },
  {
   "cell_type": "code",
   "execution_count": 22,
   "metadata": {
    "collapsed": false
   },
   "outputs": [],
   "source": [
    "#Test Cases\n",
    "from tensorflow.python.ops.variables import Variable\n",
    "\n",
    "assert features._op.name.startswith('Placeholder'), 'features must be a placeholder'\n",
    "assert labels._op.name.startswith('Placeholder'), 'labels must be a placeholder'\n",
    "assert isinstance(weights, Variable), 'weights must be a TensorFlow variable'\n",
    "assert isinstance(biases, Variable), 'biases must be a TensorFlow variable'\n",
    "\n",
    "assert features._shape == None or (\\\n",
    "    features._shape.dims[0].value is None and\\\n",
    "    features._shape.dims[1].value in [None, 784]), 'The shape of features is incorrect'\n",
    "assert labels._shape in [None, 10], 'The shape of labels is incorrect'\n",
    "assert weights._variable._shape == (1024,43), 'The shape of weights is incorrect'\n",
    "assert biases._variable._shape == (43), 'The shape of biases is incorrect'\n",
    "\n",
    "assert features._dtype == tf.float32, 'features must be type float32'\n",
    "assert labels._dtype == tf.float32, 'labels must be type float32'"
   ]
  },
  {
   "cell_type": "code",
   "execution_count": 23,
   "metadata": {
    "collapsed": false
   },
   "outputs": [
    {
     "name": "stdout",
     "output_type": "stream",
     "text": [
      "features =  (37248, 1024)\n",
      "weights =  (1024, 43)\n",
      "biases =  (43,)\n",
      "Tensor(\"add_1:0\", shape=(?, 43), dtype=float32)\n"
     ]
    }
   ],
   "source": [
    "# Feed dicts for training, validation, and test session\n",
    "train_feed_dict = {features: train_features, labels: train_labels}\n",
    "valid_feed_dict = {features: valid_features, labels: valid_labels}\n",
    "test_feed_dict = {features: test_gray, labels: y_test}\n",
    "\n",
    "# Linear Function WX + b\n",
    "logits = tf.matmul(features, weights) + biases\n",
    "init = tf.initialize_all_variables()\n",
    "with tf.Session() as session:\n",
    "    session.run(init)\n",
    "    a = session.run(features, feed_dict=train_feed_dict)\n",
    "    b = session.run(weights)\n",
    "    c = session.run(biases)\n",
    "    print(\"features = \",a.shape)\n",
    "    print(\"weights = \",b.shape)\n",
    "    print(\"biases = \",c.shape)\n",
    "    session.run(logits, feed_dict=train_feed_dict)\n",
    "print(logits)\n"
   ]
  },
  {
   "cell_type": "code",
   "execution_count": 24,
   "metadata": {
    "collapsed": false
   },
   "outputs": [
    {
     "name": "stdout",
     "output_type": "stream",
     "text": [
      "Tests Passed!\n"
     ]
    }
   ],
   "source": [
    "prediction = tf.nn.softmax(logits)\n",
    "\n",
    "# Cross entropy\n",
    "#cross_entropy = -tf.reduce_sum(labels * tf.log(prediction), reduction_indices=1)\n",
    "cross_entropy = tf.reduce_mean(-tf.reduce_sum(labels * tf.log(tf.clip_by_value(prediction,1e-10,1.0)), \n",
    "                                             reduction_indices=[1]))\n",
    "\n",
    "# Training loss\n",
    "loss = tf.reduce_mean(cross_entropy)\n",
    "\n",
    "# Create an operation that initializes all variables\n",
    "init = tf.initialize_all_variables()\n",
    "\n",
    "# Test Cases\n",
    "with tf.Session() as session:\n",
    "    session.run(init)\n",
    "    #pred = session.run(prediction,feed_dict=test_feed_dict)\n",
    "    session.run(loss, feed_dict=train_feed_dict)\n",
    "    #session.run(loss, feed_dict=valid_feed_dict)\n",
    "    #session.run(loss, feed_dict=test_feed_dict)\n",
    "    #print(pred)\n",
    "    #print(\"train_loss = \",train_loss)\n",
    "    #print(\"valid_loss = \",valid_loss)\n",
    "    #print(\"test_loss = \",test_loss)\n",
    "    biases_data = session.run(biases)\n",
    "\n",
    "assert not np.count_nonzero(biases_data), 'biases must be zeros'\n",
    "\n",
    "print('Tests Passed!')"
   ]
  },
  {
   "cell_type": "code",
   "execution_count": 25,
   "metadata": {
    "collapsed": false
   },
   "outputs": [
    {
     "name": "stdout",
     "output_type": "stream",
     "text": [
      "Accuracy function created.\n"
     ]
    }
   ],
   "source": [
    "# Determine if the predictions are correct\n",
    "is_correct_prediction = tf.equal(tf.argmax(prediction, 1), tf.argmax(labels, 1))\n",
    "# Calculate the accuracy of the predictions\n",
    "accuracy = tf.reduce_mean(tf.cast(is_correct_prediction, tf.float32))\n",
    "\n",
    "print('Accuracy function created.')"
   ]
  },
  {
   "cell_type": "code",
   "execution_count": 26,
   "metadata": {
    "collapsed": false
   },
   "outputs": [
    {
     "name": "stderr",
     "output_type": "stream",
     "text": [
      "Epoch  1/500: 100%|██████████| 1863/1863 [00:02<00:00, 676.13batches/s]\n",
      "Epoch  2/500: 100%|██████████| 1863/1863 [00:02<00:00, 700.56batches/s]\n",
      "Epoch  3/500: 100%|██████████| 1863/1863 [00:02<00:00, 698.90batches/s]\n",
      "Epoch  4/500: 100%|██████████| 1863/1863 [00:02<00:00, 711.06batches/s]\n",
      "Epoch  5/500: 100%|██████████| 1863/1863 [00:02<00:00, 684.29batches/s]\n",
      "Epoch  6/500: 100%|██████████| 1863/1863 [00:02<00:00, 679.29batches/s]\n",
      "Epoch  7/500: 100%|██████████| 1863/1863 [00:02<00:00, 692.60batches/s]\n",
      "Epoch  8/500: 100%|██████████| 1863/1863 [00:02<00:00, 677.27batches/s]\n",
      "Epoch  9/500: 100%|██████████| 1863/1863 [00:02<00:00, 687.33batches/s]\n",
      "Epoch 10/500: 100%|██████████| 1863/1863 [00:02<00:00, 656.48batches/s]\n",
      "Epoch 11/500: 100%|██████████| 1863/1863 [00:02<00:00, 677.67batches/s]\n",
      "Epoch 12/500: 100%|██████████| 1863/1863 [00:02<00:00, 718.65batches/s]\n",
      "Epoch 13/500: 100%|██████████| 1863/1863 [00:02<00:00, 745.25batches/s]\n",
      "Epoch 14/500: 100%|██████████| 1863/1863 [00:02<00:00, 780.85batches/s]\n",
      "Epoch 15/500: 100%|██████████| 1863/1863 [00:02<00:00, 752.82batches/s]\n",
      "Epoch 16/500: 100%|██████████| 1863/1863 [00:02<00:00, 777.93batches/s]\n",
      "Epoch 17/500: 100%|██████████| 1863/1863 [00:02<00:00, 780.77batches/s]\n",
      "Epoch 18/500: 100%|██████████| 1863/1863 [00:02<00:00, 788.21batches/s]\n",
      "Epoch 19/500: 100%|██████████| 1863/1863 [00:02<00:00, 774.51batches/s]\n",
      "Epoch 20/500: 100%|██████████| 1863/1863 [00:02<00:00, 777.22batches/s]\n",
      "Epoch 21/500: 100%|██████████| 1863/1863 [00:02<00:00, 767.45batches/s]\n",
      "Epoch 22/500: 100%|██████████| 1863/1863 [00:02<00:00, 760.66batches/s]\n",
      "Epoch 23/500: 100%|██████████| 1863/1863 [00:02<00:00, 758.09batches/s]\n",
      "Epoch 24/500: 100%|██████████| 1863/1863 [00:02<00:00, 748.12batches/s]\n",
      "Epoch 25/500: 100%|██████████| 1863/1863 [00:02<00:00, 761.43batches/s]\n",
      "Epoch 26/500: 100%|██████████| 1863/1863 [00:02<00:00, 758.83batches/s]\n",
      "Epoch 27/500: 100%|██████████| 1863/1863 [00:02<00:00, 729.67batches/s]\n",
      "Epoch 28/500: 100%|██████████| 1863/1863 [00:02<00:00, 705.76batches/s]\n",
      "Epoch 29/500: 100%|██████████| 1863/1863 [00:02<00:00, 709.35batches/s]\n",
      "Epoch 30/500: 100%|██████████| 1863/1863 [00:02<00:00, 742.84batches/s]\n",
      "Epoch 31/500: 100%|██████████| 1863/1863 [00:02<00:00, 732.16batches/s]\n",
      "Epoch 32/500: 100%|██████████| 1863/1863 [00:02<00:00, 762.74batches/s]\n",
      "Epoch 33/500: 100%|██████████| 1863/1863 [00:02<00:00, 755.39batches/s]\n",
      "Epoch 34/500: 100%|██████████| 1863/1863 [00:02<00:00, 738.78batches/s]\n",
      "Epoch 35/500: 100%|██████████| 1863/1863 [00:02<00:00, 728.57batches/s]\n",
      "Epoch 36/500: 100%|██████████| 1863/1863 [00:02<00:00, 719.14batches/s]\n",
      "Epoch 37/500: 100%|██████████| 1863/1863 [00:02<00:00, 740.73batches/s]\n",
      "Epoch 38/500: 100%|██████████| 1863/1863 [00:02<00:00, 740.89batches/s]\n",
      "Epoch 39/500: 100%|██████████| 1863/1863 [00:02<00:00, 722.05batches/s]\n",
      "Epoch 40/500: 100%|██████████| 1863/1863 [00:02<00:00, 718.62batches/s]\n",
      "Epoch 41/500: 100%|██████████| 1863/1863 [00:02<00:00, 689.66batches/s]\n",
      "Epoch 42/500: 100%|██████████| 1863/1863 [00:02<00:00, 717.11batches/s]\n",
      "Epoch 43/500: 100%|██████████| 1863/1863 [00:02<00:00, 717.89batches/s]\n",
      "Epoch 44/500: 100%|██████████| 1863/1863 [00:02<00:00, 717.63batches/s]\n",
      "Epoch 45/500: 100%|██████████| 1863/1863 [00:02<00:00, 719.11batches/s]\n",
      "Epoch 46/500: 100%|██████████| 1863/1863 [00:02<00:00, 738.77batches/s]\n",
      "Epoch 47/500: 100%|██████████| 1863/1863 [00:02<00:00, 740.20batches/s]\n",
      "Epoch 48/500: 100%|██████████| 1863/1863 [00:02<00:00, 714.08batches/s]\n",
      "Epoch 49/500: 100%|██████████| 1863/1863 [00:02<00:00, 711.56batches/s]\n",
      "Epoch 50/500: 100%|██████████| 1863/1863 [00:02<00:00, 695.76batches/s]\n",
      "Epoch 51/500: 100%|██████████| 1863/1863 [00:02<00:00, 712.56batches/s]\n",
      "Epoch 52/500: 100%|██████████| 1863/1863 [00:02<00:00, 729.77batches/s]\n",
      "Epoch 53/500: 100%|██████████| 1863/1863 [00:02<00:00, 745.85batches/s]\n",
      "Epoch 54/500: 100%|██████████| 1863/1863 [00:02<00:00, 714.10batches/s]\n",
      "Epoch 55/500: 100%|██████████| 1863/1863 [00:02<00:00, 720.47batches/s]\n",
      "Epoch 56/500: 100%|██████████| 1863/1863 [00:02<00:00, 721.77batches/s]\n",
      "Epoch 57/500: 100%|██████████| 1863/1863 [00:02<00:00, 744.51batches/s]\n",
      "Epoch 58/500: 100%|██████████| 1863/1863 [00:02<00:00, 740.64batches/s]\n",
      "Epoch 59/500: 100%|██████████| 1863/1863 [00:02<00:00, 718.65batches/s]\n",
      "Epoch 60/500: 100%|██████████| 1863/1863 [00:02<00:00, 721.34batches/s]\n",
      "Epoch 61/500: 100%|██████████| 1863/1863 [00:02<00:00, 743.03batches/s]\n",
      "Epoch 62/500: 100%|██████████| 1863/1863 [00:02<00:00, 737.06batches/s]\n",
      "Epoch 63/500: 100%|██████████| 1863/1863 [00:02<00:00, 740.01batches/s]\n",
      "Epoch 64/500: 100%|██████████| 1863/1863 [00:02<00:00, 718.94batches/s]\n",
      "Epoch 65/500: 100%|██████████| 1863/1863 [00:02<00:00, 717.10batches/s]\n",
      "Epoch 66/500: 100%|██████████| 1863/1863 [00:02<00:00, 732.64batches/s]\n",
      "Epoch 67/500: 100%|██████████| 1863/1863 [00:02<00:00, 740.88batches/s]\n",
      "Epoch 68/500: 100%|██████████| 1863/1863 [00:02<00:00, 718.31batches/s]\n",
      "Epoch 69/500: 100%|██████████| 1863/1863 [00:02<00:00, 727.38batches/s]\n",
      "Epoch 70/500: 100%|██████████| 1863/1863 [00:02<00:00, 745.50batches/s]\n",
      "Epoch 71/500: 100%|██████████| 1863/1863 [00:02<00:00, 738.12batches/s]\n",
      "Epoch 72/500: 100%|██████████| 1863/1863 [00:02<00:00, 744.64batches/s]\n",
      "Epoch 73/500: 100%|██████████| 1863/1863 [00:02<00:00, 731.51batches/s]\n",
      "Epoch 74/500: 100%|██████████| 1863/1863 [00:02<00:00, 713.34batches/s]\n",
      "Epoch 75/500: 100%|██████████| 1863/1863 [00:02<00:00, 737.18batches/s]\n",
      "Epoch 76/500: 100%|██████████| 1863/1863 [00:02<00:00, 741.56batches/s]\n",
      "Epoch 77/500: 100%|██████████| 1863/1863 [00:02<00:00, 743.70batches/s]\n",
      "Epoch 78/500: 100%|██████████| 1863/1863 [00:02<00:00, 746.96batches/s]\n",
      "Epoch 79/500: 100%|██████████| 1863/1863 [00:02<00:00, 719.94batches/s]\n",
      "Epoch 80/500: 100%|██████████| 1863/1863 [00:02<00:00, 725.13batches/s]\n",
      "Epoch 81/500: 100%|██████████| 1863/1863 [00:02<00:00, 740.79batches/s]\n",
      "Epoch 82/500: 100%|██████████| 1863/1863 [00:02<00:00, 667.99batches/s]\n",
      "Epoch 83/500: 100%|██████████| 1863/1863 [00:02<00:00, 724.11batches/s]\n",
      "Epoch 84/500: 100%|██████████| 1863/1863 [00:02<00:00, 710.28batches/s]\n",
      "Epoch 85/500: 100%|██████████| 1863/1863 [00:02<00:00, 731.82batches/s]\n",
      "Epoch 86/500: 100%|██████████| 1863/1863 [00:02<00:00, 742.56batches/s]\n",
      "Epoch 87/500: 100%|██████████| 1863/1863 [00:02<00:00, 719.07batches/s]\n",
      "Epoch 88/500: 100%|██████████| 1863/1863 [00:03<00:00, 593.17batches/s]\n",
      "Epoch 89/500: 100%|██████████| 1863/1863 [00:03<00:00, 558.44batches/s]\n",
      "Epoch 90/500: 100%|██████████| 1863/1863 [00:02<00:00, 672.25batches/s]\n",
      "Epoch 91/500: 100%|██████████| 1863/1863 [00:02<00:00, 709.16batches/s]\n",
      "Epoch 92/500: 100%|██████████| 1863/1863 [00:02<00:00, 720.58batches/s]\n",
      "Epoch 93/500: 100%|██████████| 1863/1863 [00:02<00:00, 737.17batches/s]\n",
      "Epoch 94/500: 100%|██████████| 1863/1863 [00:02<00:00, 741.29batches/s]\n",
      "Epoch 95/500: 100%|██████████| 1863/1863 [00:02<00:00, 721.05batches/s]\n",
      "Epoch 96/500: 100%|██████████| 1863/1863 [00:02<00:00, 710.99batches/s]\n",
      "Epoch 97/500: 100%|██████████| 1863/1863 [00:02<00:00, 718.46batches/s]\n",
      "Epoch 98/500: 100%|██████████| 1863/1863 [00:02<00:00, 716.34batches/s]\n",
      "Epoch 99/500: 100%|██████████| 1863/1863 [00:02<00:00, 719.81batches/s]\n",
      "Epoch 100/500: 100%|██████████| 1863/1863 [00:02<00:00, 719.16batches/s]\n",
      "Epoch 101/500: 100%|██████████| 1863/1863 [00:02<00:00, 725.60batches/s]\n",
      "Epoch 102/500: 100%|██████████| 1863/1863 [00:02<00:00, 720.16batches/s]\n",
      "Epoch 103/500: 100%|██████████| 1863/1863 [00:02<00:00, 708.18batches/s]\n",
      "Epoch 104/500: 100%|██████████| 1863/1863 [00:02<00:00, 698.51batches/s]\n",
      "Epoch 105/500: 100%|██████████| 1863/1863 [00:02<00:00, 715.69batches/s]\n",
      "Epoch 106/500: 100%|██████████| 1863/1863 [00:02<00:00, 715.03batches/s]\n",
      "Epoch 107/500: 100%|██████████| 1863/1863 [00:02<00:00, 729.55batches/s]\n",
      "Epoch 108/500: 100%|██████████| 1863/1863 [00:02<00:00, 719.80batches/s]\n",
      "Epoch 109/500: 100%|██████████| 1863/1863 [00:02<00:00, 722.17batches/s]\n",
      "Epoch 110/500: 100%|██████████| 1863/1863 [00:02<00:00, 720.99batches/s]\n",
      "Epoch 111/500: 100%|██████████| 1863/1863 [00:02<00:00, 714.09batches/s]\n",
      "Epoch 112/500: 100%|██████████| 1863/1863 [00:02<00:00, 714.58batches/s]\n",
      "Epoch 113/500: 100%|██████████| 1863/1863 [00:02<00:00, 719.49batches/s]\n",
      "Epoch 114/500: 100%|██████████| 1863/1863 [00:02<00:00, 735.06batches/s]\n",
      "Epoch 115/500: 100%|██████████| 1863/1863 [00:02<00:00, 742.86batches/s]\n",
      "Epoch 116/500: 100%|██████████| 1863/1863 [00:02<00:00, 735.59batches/s]\n",
      "Epoch 117/500: 100%|██████████| 1863/1863 [00:02<00:00, 726.05batches/s]\n",
      "Epoch 118/500: 100%|██████████| 1863/1863 [00:02<00:00, 714.55batches/s]\n",
      "Epoch 119/500: 100%|██████████| 1863/1863 [00:02<00:00, 722.45batches/s]\n",
      "Epoch 120/500: 100%|██████████| 1863/1863 [00:02<00:00, 714.98batches/s]\n",
      "Epoch 121/500: 100%|██████████| 1863/1863 [00:02<00:00, 711.81batches/s]\n",
      "Epoch 122/500: 100%|██████████| 1863/1863 [00:02<00:00, 741.72batches/s]\n",
      "Epoch 123/500: 100%|██████████| 1863/1863 [00:02<00:00, 723.80batches/s]\n",
      "Epoch 124/500: 100%|██████████| 1863/1863 [00:02<00:00, 714.16batches/s]\n",
      "Epoch 125/500: 100%|██████████| 1863/1863 [00:02<00:00, 712.88batches/s]\n",
      "Epoch 126/500: 100%|██████████| 1863/1863 [00:02<00:00, 714.30batches/s]\n",
      "Epoch 127/500: 100%|██████████| 1863/1863 [00:02<00:00, 721.20batches/s]\n",
      "Epoch 128/500: 100%|██████████| 1863/1863 [00:02<00:00, 716.41batches/s]\n",
      "Epoch 129/500: 100%|██████████| 1863/1863 [00:02<00:00, 713.30batches/s]\n",
      "Epoch 130/500: 100%|██████████| 1863/1863 [00:02<00:00, 717.54batches/s]\n",
      "Epoch 131/500: 100%|██████████| 1863/1863 [00:02<00:00, 717.32batches/s]\n",
      "Epoch 132/500: 100%|██████████| 1863/1863 [00:02<00:00, 707.35batches/s]\n",
      "Epoch 133/500: 100%|██████████| 1863/1863 [00:02<00:00, 686.50batches/s]\n",
      "Epoch 134/500: 100%|██████████| 1863/1863 [00:02<00:00, 708.40batches/s]\n",
      "Epoch 135/500: 100%|██████████| 1863/1863 [00:02<00:00, 712.57batches/s]\n",
      "Epoch 136/500: 100%|██████████| 1863/1863 [00:02<00:00, 710.00batches/s]\n",
      "Epoch 137/500: 100%|██████████| 1863/1863 [00:02<00:00, 717.01batches/s]\n",
      "Epoch 138/500: 100%|██████████| 1863/1863 [00:02<00:00, 698.66batches/s]\n",
      "Epoch 139/500: 100%|██████████| 1863/1863 [00:02<00:00, 715.92batches/s]\n",
      "Epoch 140/500: 100%|██████████| 1863/1863 [00:02<00:00, 705.44batches/s]\n",
      "Epoch 141/500: 100%|██████████| 1863/1863 [00:02<00:00, 718.38batches/s]\n",
      "Epoch 142/500: 100%|██████████| 1863/1863 [00:02<00:00, 714.13batches/s]\n",
      "Epoch 143/500: 100%|██████████| 1863/1863 [00:02<00:00, 719.42batches/s]\n",
      "Epoch 144/500: 100%|██████████| 1863/1863 [00:02<00:00, 735.34batches/s]\n",
      "Epoch 145/500: 100%|██████████| 1863/1863 [00:02<00:00, 722.65batches/s]\n",
      "Epoch 146/500: 100%|██████████| 1863/1863 [00:02<00:00, 712.35batches/s]\n",
      "Epoch 147/500: 100%|██████████| 1863/1863 [00:02<00:00, 712.64batches/s]\n",
      "Epoch 148/500: 100%|██████████| 1863/1863 [00:02<00:00, 717.05batches/s]\n",
      "Epoch 149/500: 100%|██████████| 1863/1863 [00:02<00:00, 713.39batches/s]\n",
      "Epoch 150/500: 100%|██████████| 1863/1863 [00:02<00:00, 715.50batches/s]\n",
      "Epoch 151/500: 100%|██████████| 1863/1863 [00:02<00:00, 715.32batches/s]\n",
      "Epoch 152/500: 100%|██████████| 1863/1863 [00:02<00:00, 717.37batches/s]\n",
      "Epoch 153/500: 100%|██████████| 1863/1863 [00:02<00:00, 711.67batches/s]\n",
      "Epoch 154/500: 100%|██████████| 1863/1863 [00:02<00:00, 707.58batches/s]\n",
      "Epoch 155/500: 100%|██████████| 1863/1863 [00:02<00:00, 710.99batches/s]\n",
      "Epoch 156/500: 100%|██████████| 1863/1863 [00:02<00:00, 712.88batches/s]\n",
      "Epoch 157/500: 100%|██████████| 1863/1863 [00:02<00:00, 717.06batches/s]\n",
      "Epoch 158/500: 100%|██████████| 1863/1863 [00:02<00:00, 716.04batches/s]\n",
      "Epoch 159/500: 100%|██████████| 1863/1863 [00:02<00:00, 711.48batches/s]\n",
      "Epoch 160/500: 100%|██████████| 1863/1863 [00:02<00:00, 714.53batches/s]\n",
      "Epoch 161/500: 100%|██████████| 1863/1863 [00:02<00:00, 712.26batches/s]\n",
      "Epoch 162/500: 100%|██████████| 1863/1863 [00:02<00:00, 715.72batches/s]\n",
      "Epoch 163/500: 100%|██████████| 1863/1863 [00:02<00:00, 715.97batches/s]\n",
      "Epoch 164/500: 100%|██████████| 1863/1863 [00:02<00:00, 717.23batches/s]\n",
      "Epoch 165/500: 100%|██████████| 1863/1863 [00:02<00:00, 716.72batches/s]\n",
      "Epoch 166/500: 100%|██████████| 1863/1863 [00:02<00:00, 709.98batches/s]\n",
      "Epoch 167/500: 100%|██████████| 1863/1863 [00:02<00:00, 715.02batches/s]\n",
      "Epoch 168/500: 100%|██████████| 1863/1863 [00:02<00:00, 716.82batches/s]\n",
      "Epoch 169/500: 100%|██████████| 1863/1863 [00:02<00:00, 737.76batches/s]\n",
      "Epoch 170/500: 100%|██████████| 1863/1863 [00:02<00:00, 727.23batches/s]\n",
      "Epoch 171/500: 100%|██████████| 1863/1863 [00:02<00:00, 713.93batches/s]\n",
      "Epoch 172/500: 100%|██████████| 1863/1863 [00:02<00:00, 716.39batches/s]\n",
      "Epoch 173/500: 100%|██████████| 1863/1863 [00:02<00:00, 719.65batches/s]\n",
      "Epoch 174/500: 100%|██████████| 1863/1863 [00:02<00:00, 708.94batches/s]\n",
      "Epoch 175/500: 100%|██████████| 1863/1863 [00:02<00:00, 732.06batches/s]\n",
      "Epoch 176/500: 100%|██████████| 1863/1863 [00:02<00:00, 734.91batches/s]\n",
      "Epoch 177/500: 100%|██████████| 1863/1863 [00:02<00:00, 734.70batches/s]\n",
      "Epoch 178/500: 100%|██████████| 1863/1863 [00:02<00:00, 714.21batches/s]\n",
      "Epoch 179/500: 100%|██████████| 1863/1863 [00:02<00:00, 720.90batches/s]\n",
      "Epoch 180/500: 100%|██████████| 1863/1863 [00:02<00:00, 735.75batches/s]\n",
      "Epoch 181/500: 100%|██████████| 1863/1863 [00:02<00:00, 736.13batches/s]\n",
      "Epoch 182/500: 100%|██████████| 1863/1863 [00:02<00:00, 736.21batches/s]\n",
      "Epoch 183/500: 100%|██████████| 1863/1863 [00:02<00:00, 737.62batches/s]\n",
      "Epoch 184/500: 100%|██████████| 1863/1863 [00:02<00:00, 711.18batches/s]\n",
      "Epoch 185/500: 100%|██████████| 1863/1863 [00:02<00:00, 726.14batches/s]\n",
      "Epoch 186/500: 100%|██████████| 1863/1863 [00:02<00:00, 734.67batches/s]\n",
      "Epoch 187/500: 100%|██████████| 1863/1863 [00:02<00:00, 739.52batches/s]\n",
      "Epoch 188/500: 100%|██████████| 1863/1863 [00:02<00:00, 741.10batches/s]\n",
      "Epoch 189/500: 100%|██████████| 1863/1863 [00:02<00:00, 738.32batches/s]\n",
      "Epoch 190/500: 100%|██████████| 1863/1863 [00:02<00:00, 740.39batches/s]\n",
      "Epoch 191/500: 100%|██████████| 1863/1863 [00:02<00:00, 741.88batches/s]\n",
      "Epoch 192/500: 100%|██████████| 1863/1863 [00:02<00:00, 757.16batches/s]\n",
      "Epoch 193/500: 100%|██████████| 1863/1863 [00:02<00:00, 756.89batches/s]\n",
      "Epoch 194/500: 100%|██████████| 1863/1863 [00:02<00:00, 704.30batches/s]\n",
      "Epoch 195/500: 100%|██████████| 1863/1863 [00:03<00:00, 547.70batches/s]\n",
      "Epoch 196/500: 100%|██████████| 1863/1863 [00:03<00:00, 529.36batches/s]\n",
      "Epoch 197/500: 100%|██████████| 1863/1863 [00:03<00:00, 582.23batches/s]\n",
      "Epoch 198/500: 100%|██████████| 1863/1863 [00:02<00:00, 649.78batches/s]\n",
      "Epoch 199/500: 100%|██████████| 1863/1863 [00:02<00:00, 661.47batches/s]\n",
      "Epoch 200/500: 100%|██████████| 1863/1863 [00:02<00:00, 668.63batches/s]\n",
      "Epoch 201/500: 100%|██████████| 1863/1863 [00:02<00:00, 679.95batches/s]\n",
      "Epoch 202/500: 100%|██████████| 1863/1863 [00:02<00:00, 745.89batches/s]\n",
      "Epoch 203/500: 100%|██████████| 1863/1863 [00:02<00:00, 699.68batches/s]\n",
      "Epoch 204/500: 100%|██████████| 1863/1863 [00:02<00:00, 677.24batches/s]\n",
      "Epoch 205/500: 100%|██████████| 1863/1863 [00:02<00:00, 651.20batches/s]\n",
      "Epoch 206/500: 100%|██████████| 1863/1863 [00:02<00:00, 672.59batches/s]\n",
      "Epoch 207/500: 100%|██████████| 1863/1863 [00:02<00:00, 680.14batches/s]\n",
      "Epoch 208/500: 100%|██████████| 1863/1863 [00:02<00:00, 683.73batches/s]\n",
      "Epoch 209/500: 100%|██████████| 1863/1863 [00:02<00:00, 701.36batches/s]\n",
      "Epoch 210/500: 100%|██████████| 1863/1863 [00:02<00:00, 695.57batches/s]\n",
      "Epoch 211/500: 100%|██████████| 1863/1863 [00:02<00:00, 661.83batches/s]\n",
      "Epoch 212/500: 100%|██████████| 1863/1863 [00:02<00:00, 639.64batches/s]\n",
      "Epoch 213/500: 100%|██████████| 1863/1863 [00:02<00:00, 657.61batches/s]\n",
      "Epoch 214/500: 100%|██████████| 1863/1863 [00:02<00:00, 689.55batches/s]\n",
      "Epoch 215/500: 100%|██████████| 1863/1863 [00:02<00:00, 722.02batches/s]\n",
      "Epoch 216/500: 100%|██████████| 1863/1863 [00:02<00:00, 716.63batches/s]\n",
      "Epoch 217/500: 100%|██████████| 1863/1863 [00:02<00:00, 720.15batches/s]\n",
      "Epoch 218/500: 100%|██████████| 1863/1863 [00:02<00:00, 714.51batches/s]\n",
      "Epoch 219/500: 100%|██████████| 1863/1863 [00:02<00:00, 720.49batches/s]\n",
      "Epoch 220/500: 100%|██████████| 1863/1863 [00:02<00:00, 724.89batches/s]\n",
      "Epoch 221/500: 100%|██████████| 1863/1863 [00:02<00:00, 714.47batches/s]\n",
      "Epoch 222/500: 100%|██████████| 1863/1863 [00:02<00:00, 718.56batches/s]\n",
      "Epoch 223/500: 100%|██████████| 1863/1863 [00:02<00:00, 693.87batches/s]\n",
      "Epoch 224/500: 100%|██████████| 1863/1863 [00:03<00:00, 572.87batches/s]\n",
      "Epoch 225/500: 100%|██████████| 1863/1863 [00:03<00:00, 532.63batches/s]\n",
      "Epoch 226/500: 100%|██████████| 1863/1863 [00:03<00:00, 557.99batches/s]\n",
      "Epoch 227/500: 100%|██████████| 1863/1863 [00:03<00:00, 579.57batches/s]\n",
      "Epoch 228/500: 100%|██████████| 1863/1863 [00:03<00:00, 593.59batches/s]\n",
      "Epoch 229/500: 100%|██████████| 1863/1863 [00:02<00:00, 628.55batches/s]\n",
      "Epoch 230/500: 100%|██████████| 1863/1863 [00:02<00:00, 646.58batches/s]\n",
      "Epoch 231/500: 100%|██████████| 1863/1863 [00:03<00:00, 618.26batches/s]\n",
      "Epoch 232/500: 100%|██████████| 1863/1863 [00:03<00:00, 591.95batches/s]\n",
      "Epoch 233/500: 100%|██████████| 1863/1863 [00:03<00:00, 589.29batches/s]\n",
      "Epoch 234/500: 100%|██████████| 1863/1863 [00:03<00:00, 597.04batches/s]\n",
      "Epoch 235/500: 100%|██████████| 1863/1863 [00:03<00:00, 603.16batches/s]\n",
      "Epoch 236/500: 100%|██████████| 1863/1863 [00:03<00:00, 689.13batches/s]\n",
      "Epoch 237/500: 100%|██████████| 1863/1863 [00:03<00:00, 592.02batches/s]\n",
      "Epoch 238/500: 100%|██████████| 1863/1863 [00:03<00:00, 581.36batches/s]\n",
      "Epoch 239/500: 100%|██████████| 1863/1863 [00:03<00:00, 551.98batches/s]\n",
      "Epoch 240/500: 100%|██████████| 1863/1863 [00:03<00:00, 560.72batches/s]\n",
      "Epoch 241/500: 100%|██████████| 1863/1863 [00:03<00:00, 578.08batches/s]\n",
      "Epoch 242/500: 100%|██████████| 1863/1863 [00:03<00:00, 582.41batches/s]\n",
      "Epoch 243/500: 100%|██████████| 1863/1863 [00:03<00:00, 587.01batches/s]\n",
      "Epoch 244/500: 100%|██████████| 1863/1863 [00:03<00:00, 600.32batches/s]\n",
      "Epoch 245/500: 100%|██████████| 1863/1863 [00:02<00:00, 622.85batches/s]\n",
      "Epoch 246/500: 100%|██████████| 1863/1863 [00:02<00:00, 639.50batches/s]\n",
      "Epoch 247/500: 100%|██████████| 1863/1863 [00:02<00:00, 642.43batches/s]\n",
      "Epoch 248/500: 100%|██████████| 1863/1863 [00:02<00:00, 646.35batches/s]\n",
      "Epoch 249/500: 100%|██████████| 1863/1863 [00:03<00:00, 616.96batches/s]\n",
      "Epoch 250/500: 100%|██████████| 1863/1863 [00:03<00:00, 589.88batches/s]\n",
      "Epoch 251/500: 100%|██████████| 1863/1863 [00:03<00:00, 585.14batches/s]\n",
      "Epoch 252/500: 100%|██████████| 1863/1863 [00:03<00:00, 601.84batches/s]\n",
      "Epoch 253/500: 100%|██████████| 1863/1863 [00:03<00:00, 599.01batches/s]\n",
      "Epoch 254/500: 100%|██████████| 1863/1863 [00:02<00:00, 625.03batches/s]\n",
      "Epoch 255/500: 100%|██████████| 1863/1863 [00:02<00:00, 642.03batches/s]\n",
      "Epoch 256/500: 100%|██████████| 1863/1863 [00:02<00:00, 638.87batches/s]\n",
      "Epoch 257/500: 100%|██████████| 1863/1863 [00:02<00:00, 642.48batches/s]\n",
      "Epoch 258/500: 100%|██████████| 1863/1863 [00:02<00:00, 631.41batches/s]\n",
      "Epoch 259/500: 100%|██████████| 1863/1863 [00:02<00:00, 639.90batches/s]\n",
      "Epoch 260/500: 100%|██████████| 1863/1863 [00:02<00:00, 641.59batches/s]\n",
      "Epoch 261/500: 100%|██████████| 1863/1863 [00:02<00:00, 630.73batches/s]\n",
      "Epoch 262/500: 100%|██████████| 1863/1863 [00:03<00:00, 618.79batches/s]\n",
      "Epoch 263/500: 100%|██████████| 1863/1863 [00:03<00:00, 598.25batches/s]\n",
      "Epoch 264/500: 100%|██████████| 1863/1863 [00:03<00:00, 598.33batches/s]\n",
      "Epoch 265/500: 100%|██████████| 1863/1863 [00:03<00:00, 618.36batches/s]\n",
      "Epoch 266/500: 100%|██████████| 1863/1863 [00:03<00:00, 617.07batches/s]\n",
      "Epoch 267/500: 100%|██████████| 1863/1863 [00:03<00:00, 594.32batches/s]\n",
      "Epoch 268/500: 100%|██████████| 1863/1863 [00:03<00:00, 603.61batches/s]\n",
      "Epoch 269/500: 100%|██████████| 1863/1863 [00:02<00:00, 628.56batches/s]\n",
      "Epoch 270/500: 100%|██████████| 1863/1863 [00:02<00:00, 645.80batches/s]\n",
      "Epoch 271/500: 100%|██████████| 1863/1863 [00:02<00:00, 644.72batches/s]\n",
      "Epoch 272/500: 100%|██████████| 1863/1863 [00:02<00:00, 652.26batches/s]\n",
      "Epoch 273/500: 100%|██████████| 1863/1863 [00:02<00:00, 632.52batches/s]\n",
      "Epoch 274/500: 100%|██████████| 1863/1863 [00:03<00:00, 617.30batches/s]\n",
      "Epoch 275/500: 100%|██████████| 1863/1863 [00:02<00:00, 635.13batches/s]\n",
      "Epoch 276/500: 100%|██████████| 1863/1863 [00:02<00:00, 641.80batches/s]\n",
      "Epoch 277/500: 100%|██████████| 1863/1863 [00:02<00:00, 637.95batches/s]\n",
      "Epoch 278/500: 100%|██████████| 1863/1863 [00:02<00:00, 636.65batches/s]\n",
      "Epoch 279/500: 100%|██████████| 1863/1863 [00:03<00:00, 617.88batches/s]\n",
      "Epoch 280/500: 100%|██████████| 1863/1863 [00:02<00:00, 638.25batches/s]\n",
      "Epoch 281/500: 100%|██████████| 1863/1863 [00:02<00:00, 630.98batches/s]\n",
      "Epoch 282/500: 100%|██████████| 1863/1863 [00:02<00:00, 627.95batches/s]\n",
      "Epoch 283/500: 100%|██████████| 1863/1863 [00:02<00:00, 645.74batches/s]\n",
      "Epoch 284/500: 100%|██████████| 1863/1863 [00:02<00:00, 654.76batches/s]\n",
      "Epoch 285/500: 100%|██████████| 1863/1863 [00:02<00:00, 672.49batches/s]\n",
      "Epoch 286/500: 100%|██████████| 1863/1863 [00:02<00:00, 657.51batches/s]\n",
      "Epoch 287/500: 100%|██████████| 1863/1863 [00:02<00:00, 661.51batches/s]\n",
      "Epoch 288/500: 100%|██████████| 1863/1863 [00:02<00:00, 661.97batches/s]\n",
      "Epoch 289/500: 100%|██████████| 1863/1863 [00:02<00:00, 667.16batches/s]\n",
      "Epoch 290/500: 100%|██████████| 1863/1863 [00:02<00:00, 664.30batches/s]\n",
      "Epoch 291/500: 100%|██████████| 1863/1863 [00:02<00:00, 656.60batches/s]\n",
      "Epoch 292/500: 100%|██████████| 1863/1863 [00:02<00:00, 646.70batches/s]\n",
      "Epoch 293/500: 100%|██████████| 1863/1863 [00:02<00:00, 634.14batches/s]\n",
      "Epoch 294/500: 100%|██████████| 1863/1863 [00:02<00:00, 622.07batches/s]\n",
      "Epoch 295/500: 100%|██████████| 1863/1863 [00:02<00:00, 651.24batches/s]\n",
      "Epoch 296/500: 100%|██████████| 1863/1863 [00:02<00:00, 665.41batches/s]\n",
      "Epoch 297/500: 100%|██████████| 1863/1863 [00:02<00:00, 681.61batches/s]\n",
      "Epoch 298/500: 100%|██████████| 1863/1863 [00:02<00:00, 691.65batches/s]\n",
      "Epoch 299/500: 100%|██████████| 1863/1863 [00:02<00:00, 686.93batches/s]\n",
      "Epoch 300/500: 100%|██████████| 1863/1863 [00:02<00:00, 667.16batches/s]\n",
      "Epoch 301/500: 100%|██████████| 1863/1863 [00:02<00:00, 669.79batches/s]\n",
      "Epoch 302/500: 100%|██████████| 1863/1863 [00:02<00:00, 681.31batches/s]\n",
      "Epoch 303/500: 100%|██████████| 1863/1863 [00:02<00:00, 689.39batches/s]\n",
      "Epoch 304/500: 100%|██████████| 1863/1863 [00:02<00:00, 704.91batches/s]\n",
      "Epoch 305/500: 100%|██████████| 1863/1863 [00:02<00:00, 666.79batches/s]\n",
      "Epoch 306/500: 100%|██████████| 1863/1863 [00:02<00:00, 661.49batches/s]\n",
      "Epoch 307/500: 100%|██████████| 1863/1863 [00:02<00:00, 679.06batches/s]\n",
      "Epoch 308/500: 100%|██████████| 1863/1863 [00:02<00:00, 680.28batches/s]\n",
      "Epoch 309/500: 100%|██████████| 1863/1863 [00:02<00:00, 686.69batches/s]\n",
      "Epoch 310/500: 100%|██████████| 1863/1863 [00:02<00:00, 685.72batches/s]\n",
      "Epoch 311/500: 100%|██████████| 1863/1863 [00:02<00:00, 688.75batches/s]\n",
      "Epoch 312/500: 100%|██████████| 1863/1863 [00:02<00:00, 688.42batches/s]\n",
      "Epoch 313/500: 100%|██████████| 1863/1863 [00:02<00:00, 694.00batches/s]\n",
      "Epoch 314/500: 100%|██████████| 1863/1863 [00:02<00:00, 713.00batches/s]\n",
      "Epoch 315/500: 100%|██████████| 1863/1863 [00:02<00:00, 702.31batches/s]\n",
      "Epoch 316/500: 100%|██████████| 1863/1863 [00:02<00:00, 687.72batches/s]\n",
      "Epoch 317/500: 100%|██████████| 1863/1863 [00:02<00:00, 705.06batches/s]\n",
      "Epoch 318/500: 100%|██████████| 1863/1863 [00:02<00:00, 709.25batches/s]\n",
      "Epoch 319/500: 100%|██████████| 1863/1863 [00:02<00:00, 693.26batches/s]\n",
      "Epoch 320/500: 100%|██████████| 1863/1863 [00:02<00:00, 658.06batches/s]\n",
      "Epoch 321/500: 100%|██████████| 1863/1863 [00:02<00:00, 657.62batches/s]\n",
      "Epoch 322/500: 100%|██████████| 1863/1863 [00:02<00:00, 668.81batches/s]\n",
      "Epoch 323/500: 100%|██████████| 1863/1863 [00:02<00:00, 689.98batches/s]\n",
      "Epoch 324/500: 100%|██████████| 1863/1863 [00:02<00:00, 687.27batches/s]\n",
      "Epoch 325/500: 100%|██████████| 1863/1863 [00:02<00:00, 679.73batches/s]\n",
      "Epoch 326/500: 100%|██████████| 1863/1863 [00:02<00:00, 687.98batches/s]\n",
      "Epoch 327/500: 100%|██████████| 1863/1863 [00:02<00:00, 687.60batches/s]\n",
      "Epoch 328/500: 100%|██████████| 1863/1863 [00:02<00:00, 690.06batches/s]\n",
      "Epoch 329/500: 100%|██████████| 1863/1863 [00:02<00:00, 685.44batches/s]\n",
      "Epoch 330/500: 100%|██████████| 1863/1863 [00:02<00:00, 688.44batches/s]\n",
      "Epoch 331/500: 100%|██████████| 1863/1863 [00:02<00:00, 690.22batches/s]\n",
      "Epoch 332/500: 100%|██████████| 1863/1863 [00:02<00:00, 704.56batches/s]\n",
      "Epoch 333/500: 100%|██████████| 1863/1863 [00:02<00:00, 706.43batches/s]\n",
      "Epoch 334/500: 100%|██████████| 1863/1863 [00:02<00:00, 688.13batches/s]\n",
      "Epoch 335/500: 100%|██████████| 1863/1863 [00:02<00:00, 667.68batches/s]\n",
      "Epoch 336/500: 100%|██████████| 1863/1863 [00:02<00:00, 680.40batches/s]\n",
      "Epoch 337/500: 100%|██████████| 1863/1863 [00:02<00:00, 696.21batches/s]\n",
      "Epoch 338/500: 100%|██████████| 1863/1863 [00:02<00:00, 703.40batches/s]\n",
      "Epoch 339/500: 100%|██████████| 1863/1863 [00:02<00:00, 708.93batches/s]\n",
      "Epoch 340/500: 100%|██████████| 1863/1863 [00:02<00:00, 700.63batches/s]\n",
      "Epoch 341/500: 100%|██████████| 1863/1863 [00:02<00:00, 671.92batches/s]\n",
      "Epoch 342/500: 100%|██████████| 1863/1863 [00:02<00:00, 664.44batches/s]\n",
      "Epoch 343/500: 100%|██████████| 1863/1863 [00:02<00:00, 662.92batches/s]\n",
      "Epoch 344/500: 100%|██████████| 1863/1863 [00:02<00:00, 690.01batches/s]\n",
      "Epoch 345/500: 100%|██████████| 1863/1863 [00:02<00:00, 690.80batches/s]\n",
      "Epoch 346/500: 100%|██████████| 1863/1863 [00:02<00:00, 714.86batches/s]\n",
      "Epoch 347/500: 100%|██████████| 1863/1863 [00:02<00:00, 697.83batches/s]\n",
      "Epoch 348/500: 100%|██████████| 1863/1863 [00:02<00:00, 692.08batches/s]\n",
      "Epoch 349/500: 100%|██████████| 1863/1863 [00:02<00:00, 683.92batches/s]\n",
      "Epoch 350/500: 100%|██████████| 1863/1863 [00:02<00:00, 663.29batches/s]\n",
      "Epoch 351/500: 100%|██████████| 1863/1863 [00:02<00:00, 691.05batches/s]\n",
      "Epoch 352/500: 100%|██████████| 1863/1863 [00:02<00:00, 688.73batches/s]\n",
      "Epoch 353/500: 100%|██████████| 1863/1863 [00:02<00:00, 673.07batches/s]\n",
      "Epoch 354/500: 100%|██████████| 1863/1863 [00:02<00:00, 666.19batches/s]\n",
      "Epoch 355/500: 100%|██████████| 1863/1863 [00:02<00:00, 644.98batches/s]\n",
      "Epoch 356/500: 100%|██████████| 1863/1863 [00:02<00:00, 645.05batches/s]\n",
      "Epoch 357/500: 100%|██████████| 1863/1863 [00:02<00:00, 660.75batches/s]\n",
      "Epoch 358/500: 100%|██████████| 1863/1863 [00:02<00:00, 663.56batches/s]\n",
      "Epoch 359/500: 100%|██████████| 1863/1863 [00:02<00:00, 672.50batches/s]\n",
      "Epoch 360/500: 100%|██████████| 1863/1863 [00:02<00:00, 656.99batches/s]\n",
      "Epoch 361/500: 100%|██████████| 1863/1863 [00:02<00:00, 655.04batches/s]\n",
      "Epoch 362/500: 100%|██████████| 1863/1863 [00:02<00:00, 652.51batches/s]\n",
      "Epoch 363/500: 100%|██████████| 1863/1863 [00:02<00:00, 657.53batches/s]\n",
      "Epoch 364/500: 100%|██████████| 1863/1863 [00:02<00:00, 633.35batches/s]\n",
      "Epoch 365/500: 100%|██████████| 1863/1863 [00:02<00:00, 664.87batches/s]\n",
      "Epoch 366/500: 100%|██████████| 1863/1863 [00:02<00:00, 668.02batches/s]\n",
      "Epoch 367/500: 100%|██████████| 1863/1863 [00:02<00:00, 661.69batches/s]\n",
      "Epoch 368/500: 100%|██████████| 1863/1863 [00:02<00:00, 657.18batches/s]\n",
      "Epoch 369/500: 100%|██████████| 1863/1863 [00:02<00:00, 664.90batches/s]\n",
      "Epoch 370/500: 100%|██████████| 1863/1863 [00:02<00:00, 650.57batches/s]\n",
      "Epoch 371/500: 100%|██████████| 1863/1863 [00:02<00:00, 640.88batches/s]\n",
      "Epoch 372/500: 100%|██████████| 1863/1863 [00:03<00:00, 607.31batches/s]\n",
      "Epoch 373/500: 100%|██████████| 1863/1863 [00:03<00:00, 620.21batches/s]\n",
      "Epoch 374/500: 100%|██████████| 1863/1863 [00:02<00:00, 658.82batches/s]\n",
      "Epoch 375/500: 100%|██████████| 1863/1863 [00:02<00:00, 657.05batches/s]\n",
      "Epoch 376/500: 100%|██████████| 1863/1863 [00:02<00:00, 671.52batches/s]\n",
      "Epoch 377/500: 100%|██████████| 1863/1863 [00:02<00:00, 658.46batches/s]\n",
      "Epoch 378/500: 100%|██████████| 1863/1863 [00:02<00:00, 642.16batches/s]\n",
      "Epoch 379/500: 100%|██████████| 1863/1863 [00:02<00:00, 650.01batches/s]\n",
      "Epoch 380/500: 100%|██████████| 1863/1863 [00:02<00:00, 668.51batches/s]\n",
      "Epoch 381/500: 100%|██████████| 1863/1863 [00:02<00:00, 670.13batches/s]\n",
      "Epoch 382/500: 100%|██████████| 1863/1863 [00:02<00:00, 679.37batches/s]\n",
      "Epoch 383/500: 100%|██████████| 1863/1863 [00:02<00:00, 672.35batches/s]\n",
      "Epoch 384/500: 100%|██████████| 1863/1863 [00:02<00:00, 668.63batches/s]\n",
      "Epoch 385/500: 100%|██████████| 1863/1863 [00:02<00:00, 676.24batches/s]\n",
      "Epoch 386/500: 100%|██████████| 1863/1863 [00:02<00:00, 674.51batches/s]\n",
      "Epoch 387/500: 100%|██████████| 1863/1863 [00:02<00:00, 672.96batches/s]\n",
      "Epoch 388/500: 100%|██████████| 1863/1863 [00:02<00:00, 675.13batches/s]\n",
      "Epoch 389/500: 100%|██████████| 1863/1863 [00:02<00:00, 692.55batches/s]\n",
      "Epoch 390/500: 100%|██████████| 1863/1863 [00:02<00:00, 695.19batches/s]\n",
      "Epoch 391/500: 100%|██████████| 1863/1863 [00:02<00:00, 683.83batches/s]\n",
      "Epoch 392/500: 100%|██████████| 1863/1863 [00:02<00:00, 688.01batches/s]\n",
      "Epoch 393/500: 100%|██████████| 1863/1863 [00:02<00:00, 689.06batches/s]\n",
      "Epoch 394/500: 100%|██████████| 1863/1863 [00:02<00:00, 683.39batches/s]\n",
      "Epoch 395/500: 100%|██████████| 1863/1863 [00:02<00:00, 686.95batches/s]\n",
      "Epoch 396/500: 100%|██████████| 1863/1863 [00:02<00:00, 698.52batches/s]\n",
      "Epoch 397/500: 100%|██████████| 1863/1863 [00:02<00:00, 691.41batches/s]\n",
      "Epoch 398/500: 100%|██████████| 1863/1863 [00:02<00:00, 689.50batches/s]\n",
      "Epoch 399/500: 100%|██████████| 1863/1863 [00:02<00:00, 711.55batches/s]\n",
      "Epoch 400/500: 100%|██████████| 1863/1863 [00:02<00:00, 700.82batches/s]\n",
      "Epoch 401/500: 100%|██████████| 1863/1863 [00:02<00:00, 689.28batches/s]\n",
      "Epoch 402/500: 100%|██████████| 1863/1863 [00:02<00:00, 684.53batches/s]\n",
      "Epoch 403/500: 100%|██████████| 1863/1863 [00:02<00:00, 676.72batches/s]\n",
      "Epoch 404/500: 100%|██████████| 1863/1863 [00:02<00:00, 666.83batches/s]\n",
      "Epoch 405/500: 100%|██████████| 1863/1863 [00:02<00:00, 688.82batches/s]\n",
      "Epoch 406/500: 100%|██████████| 1863/1863 [00:02<00:00, 683.45batches/s]\n",
      "Epoch 407/500: 100%|██████████| 1863/1863 [00:02<00:00, 691.58batches/s]\n",
      "Epoch 408/500: 100%|██████████| 1863/1863 [00:02<00:00, 676.75batches/s]\n",
      "Epoch 409/500: 100%|██████████| 1863/1863 [00:02<00:00, 700.09batches/s]\n",
      "Epoch 410/500: 100%|██████████| 1863/1863 [00:02<00:00, 704.24batches/s]\n",
      "Epoch 411/500: 100%|██████████| 1863/1863 [00:02<00:00, 686.53batches/s]\n",
      "Epoch 412/500: 100%|██████████| 1863/1863 [00:02<00:00, 691.12batches/s]\n",
      "Epoch 413/500: 100%|██████████| 1863/1863 [00:02<00:00, 678.85batches/s]\n",
      "Epoch 414/500: 100%|██████████| 1863/1863 [00:02<00:00, 653.78batches/s]\n",
      "Epoch 415/500: 100%|██████████| 1863/1863 [00:02<00:00, 642.58batches/s]\n",
      "Epoch 416/500: 100%|██████████| 1863/1863 [00:02<00:00, 636.87batches/s]\n",
      "Epoch 417/500: 100%|██████████| 1863/1863 [00:02<00:00, 653.97batches/s]\n",
      "Epoch 418/500: 100%|██████████| 1863/1863 [00:02<00:00, 683.02batches/s]\n",
      "Epoch 419/500: 100%|██████████| 1863/1863 [00:02<00:00, 694.13batches/s]\n",
      "Epoch 420/500: 100%|██████████| 1863/1863 [00:02<00:00, 672.70batches/s]\n",
      "Epoch 421/500: 100%|██████████| 1863/1863 [00:02<00:00, 646.84batches/s]\n",
      "Epoch 422/500: 100%|██████████| 1863/1863 [00:02<00:00, 648.37batches/s]\n",
      "Epoch 423/500: 100%|██████████| 1863/1863 [00:02<00:00, 623.82batches/s]\n",
      "Epoch 424/500: 100%|██████████| 1863/1863 [00:02<00:00, 640.77batches/s]\n",
      "Epoch 425/500: 100%|██████████| 1863/1863 [00:02<00:00, 646.46batches/s]\n",
      "Epoch 426/500: 100%|██████████| 1863/1863 [00:02<00:00, 645.82batches/s]\n",
      "Epoch 427/500: 100%|██████████| 1863/1863 [00:02<00:00, 653.91batches/s]\n",
      "Epoch 428/500: 100%|██████████| 1863/1863 [00:02<00:00, 665.41batches/s]\n",
      "Epoch 429/500: 100%|██████████| 1863/1863 [00:02<00:00, 671.74batches/s]\n",
      "Epoch 430/500: 100%|██████████| 1863/1863 [00:02<00:00, 668.58batches/s]\n",
      "Epoch 431/500: 100%|██████████| 1863/1863 [00:02<00:00, 670.66batches/s]\n",
      "Epoch 432/500: 100%|██████████| 1863/1863 [00:02<00:00, 668.96batches/s]\n",
      "Epoch 433/500: 100%|██████████| 1863/1863 [00:02<00:00, 639.42batches/s]\n",
      "Epoch 434/500: 100%|██████████| 1863/1863 [00:02<00:00, 621.09batches/s]\n",
      "Epoch 435/500: 100%|██████████| 1863/1863 [00:03<00:00, 617.21batches/s]\n",
      "Epoch 436/500: 100%|██████████| 1863/1863 [00:02<00:00, 645.76batches/s]\n",
      "Epoch 437/500: 100%|██████████| 1863/1863 [00:02<00:00, 655.38batches/s]\n",
      "Epoch 438/500: 100%|██████████| 1863/1863 [00:02<00:00, 671.36batches/s]\n",
      "Epoch 439/500: 100%|██████████| 1863/1863 [00:02<00:00, 648.74batches/s]\n",
      "Epoch 440/500: 100%|██████████| 1863/1863 [00:02<00:00, 653.54batches/s]\n",
      "Epoch 441/500: 100%|██████████| 1863/1863 [00:02<00:00, 663.61batches/s]\n",
      "Epoch 442/500: 100%|██████████| 1863/1863 [00:02<00:00, 668.54batches/s]\n",
      "Epoch 443/500: 100%|██████████| 1863/1863 [00:02<00:00, 636.68batches/s]\n",
      "Epoch 444/500: 100%|██████████| 1863/1863 [00:02<00:00, 662.00batches/s]\n",
      "Epoch 445/500: 100%|██████████| 1863/1863 [00:03<00:00, 602.93batches/s]\n",
      "Epoch 446/500: 100%|██████████| 1863/1863 [00:03<00:00, 540.69batches/s]\n",
      "Epoch 447/500: 100%|██████████| 1863/1863 [00:03<00:00, 535.05batches/s]\n",
      "Epoch 448/500: 100%|██████████| 1863/1863 [00:03<00:00, 566.58batches/s]\n",
      "Epoch 449/500: 100%|██████████| 1863/1863 [00:02<00:00, 645.10batches/s]\n",
      "Epoch 450/500: 100%|██████████| 1863/1863 [00:02<00:00, 691.87batches/s]\n",
      "Epoch 451/500: 100%|██████████| 1863/1863 [00:02<00:00, 701.00batches/s]\n",
      "Epoch 452/500: 100%|██████████| 1863/1863 [00:02<00:00, 653.95batches/s]\n",
      "Epoch 453/500: 100%|██████████| 1863/1863 [00:02<00:00, 726.20batches/s]\n",
      "Epoch 454/500: 100%|██████████| 1863/1863 [00:02<00:00, 742.80batches/s]\n",
      "Epoch 455/500: 100%|██████████| 1863/1863 [00:02<00:00, 775.01batches/s]\n",
      "Epoch 456/500: 100%|██████████| 1863/1863 [00:02<00:00, 791.01batches/s]\n",
      "Epoch 457/500: 100%|██████████| 1863/1863 [00:02<00:00, 805.31batches/s]\n",
      "Epoch 458/500: 100%|██████████| 1863/1863 [00:02<00:00, 797.53batches/s]\n",
      "Epoch 459/500: 100%|██████████| 1863/1863 [00:02<00:00, 804.12batches/s]\n",
      "Epoch 460/500: 100%|██████████| 1863/1863 [00:02<00:00, 803.65batches/s]\n",
      "Epoch 461/500: 100%|██████████| 1863/1863 [00:02<00:00, 804.23batches/s]\n",
      "Epoch 462/500: 100%|██████████| 1863/1863 [00:02<00:00, 803.32batches/s]\n",
      "Epoch 463/500: 100%|██████████| 1863/1863 [00:02<00:00, 822.33batches/s]\n",
      "Epoch 464/500: 100%|██████████| 1863/1863 [00:02<00:00, 818.57batches/s]\n",
      "Epoch 465/500: 100%|██████████| 1863/1863 [00:02<00:00, 805.70batches/s]\n",
      "Epoch 466/500: 100%|██████████| 1863/1863 [00:02<00:00, 797.51batches/s]\n",
      "Epoch 467/500: 100%|██████████| 1863/1863 [00:02<00:00, 776.18batches/s]\n",
      "Epoch 468/500: 100%|██████████| 1863/1863 [00:02<00:00, 800.13batches/s]\n",
      "Epoch 469/500: 100%|██████████| 1863/1863 [00:02<00:00, 803.54batches/s]\n",
      "Epoch 470/500: 100%|██████████| 1863/1863 [00:02<00:00, 807.67batches/s]\n",
      "Epoch 471/500: 100%|██████████| 1863/1863 [00:02<00:00, 692.28batches/s]\n",
      "Epoch 472/500: 100%|██████████| 1863/1863 [00:03<00:00, 589.56batches/s]\n",
      "Epoch 473/500: 100%|██████████| 1863/1863 [00:03<00:00, 560.33batches/s]\n",
      "Epoch 474/500: 100%|██████████| 1863/1863 [00:03<00:00, 550.35batches/s]\n",
      "Epoch 475/500: 100%|██████████| 1863/1863 [00:03<00:00, 538.87batches/s]\n",
      "Epoch 476/500: 100%|██████████| 1863/1863 [00:03<00:00, 542.54batches/s]\n",
      "Epoch 477/500: 100%|██████████| 1863/1863 [00:03<00:00, 557.54batches/s]\n",
      "Epoch 478/500: 100%|██████████| 1863/1863 [00:03<00:00, 547.15batches/s]\n",
      "Epoch 479/500: 100%|██████████| 1863/1863 [00:03<00:00, 534.70batches/s]\n",
      "Epoch 480/500: 100%|██████████| 1863/1863 [00:03<00:00, 524.83batches/s]\n",
      "Epoch 481/500: 100%|██████████| 1863/1863 [00:03<00:00, 534.83batches/s]\n",
      "Epoch 482/500: 100%|██████████| 1863/1863 [00:03<00:00, 573.54batches/s]\n",
      "Epoch 483/500: 100%|██████████| 1863/1863 [00:02<00:00, 648.78batches/s]\n",
      "Epoch 484/500: 100%|██████████| 1863/1863 [00:02<00:00, 745.73batches/s]\n",
      "Epoch 485/500: 100%|██████████| 1863/1863 [00:02<00:00, 763.62batches/s]\n",
      "Epoch 486/500: 100%|██████████| 1863/1863 [00:02<00:00, 778.56batches/s]\n",
      "Epoch 487/500: 100%|██████████| 1863/1863 [00:02<00:00, 783.44batches/s]\n",
      "Epoch 488/500: 100%|██████████| 1863/1863 [00:02<00:00, 776.66batches/s]\n",
      "Epoch 489/500: 100%|██████████| 1863/1863 [00:02<00:00, 781.81batches/s]\n",
      "Epoch 490/500: 100%|██████████| 1863/1863 [00:02<00:00, 739.18batches/s]\n",
      "Epoch 491/500: 100%|██████████| 1863/1863 [00:02<00:00, 761.70batches/s]\n",
      "Epoch 492/500: 100%|██████████| 1863/1863 [00:02<00:00, 780.63batches/s]\n",
      "Epoch 493/500: 100%|██████████| 1863/1863 [00:02<00:00, 778.21batches/s]\n",
      "Epoch 494/500: 100%|██████████| 1863/1863 [00:02<00:00, 751.01batches/s]\n",
      "Epoch 495/500: 100%|██████████| 1863/1863 [00:02<00:00, 699.51batches/s]\n",
      "Epoch 496/500: 100%|██████████| 1863/1863 [00:02<00:00, 626.48batches/s]\n",
      "Epoch 497/500: 100%|██████████| 1863/1863 [00:03<00:00, 545.62batches/s]\n",
      "Epoch 498/500: 100%|██████████| 1863/1863 [00:03<00:00, 505.26batches/s]\n",
      "Epoch 499/500: 100%|██████████| 1863/1863 [00:03<00:00, 526.34batches/s]\n",
      "Epoch 500/500: 100%|██████████| 1863/1863 [00:03<00:00, 523.53batches/s]\n"
     ]
    },
    {
     "name": "stdout",
     "output_type": "stream",
     "text": [
      "Validation accuracy at 0.9229984879493713\n",
      "Test accuracy at 0.791053056716919\n"
     ]
    }
   ],
   "source": [
    "import math\n",
    "from tqdm import tqdm\n",
    "\n",
    "# ToDo: Find the best parameters for each configuration\n",
    "epochs = 500\n",
    "batch_size = 20\n",
    "learning_rate = .24\n",
    "\n",
    "# Gradient Descent\n",
    "optimizer = tf.train.GradientDescentOptimizer(learning_rate).minimize(loss)    \n",
    "\n",
    "# The accuracy measured against the validation set\n",
    "validation_accuracy = 0.0\n",
    "test_accuracy = 0.0\n",
    "\n",
    "# Measurements use for graphing loss and accuracy\n",
    "log_batch_step = 2000\n",
    "batches = []\n",
    "\n",
    "with tf.Session() as session:\n",
    "    session.run(init)\n",
    "    batch_count = int(math.ceil(len(train_features)/batch_size))\n",
    "\n",
    "    for epoch_i in range(epochs):\n",
    "        \n",
    "        # Progress bar\n",
    "        batches_pbar = tqdm(range(batch_count), desc='Epoch {:>2}/{}'.format(epoch_i+1, epochs), unit='batches')\n",
    "        \n",
    "        # The training cycle\n",
    "        for batch_i in batches_pbar:\n",
    "            # Get a batch of training features and labels\n",
    "            batch_start = batch_i*batch_size\n",
    "            batch_features = train_features[batch_start:batch_start + batch_size]\n",
    "            batch_labels = train_labels[batch_start:batch_start + batch_size]\n",
    "\n",
    "            # Run optimizer and get loss\n",
    "            _, l = session.run(\n",
    "                [optimizer, loss],\n",
    "                feed_dict={features: batch_features, labels: batch_labels})\n",
    "\n",
    "            # Log every 2000 batches\n",
    "            if not batch_i % log_batch_step:\n",
    "                # Calculate Training and Validation accuracy\n",
    "                training_accuracy = session.run(accuracy, feed_dict=train_feed_dict)\n",
    "                validation_accuracy = session.run(accuracy, feed_dict=valid_feed_dict)\n",
    "                test_accuracy = session.run(accuracy, feed_dict=test_feed_dict)\n",
    "                #print('training accuracy at {}'.format(training_accuracy))\n",
    "                #print('Validation accuracy at {}'.format(validation_accuracy))\n",
    "\n",
    "        # Check accuracy against Validation data\n",
    "        validation_accuracy = session.run(accuracy, feed_dict=valid_feed_dict)\n",
    "        test_accuracy = session.run(accuracy, feed_dict=test_feed_dict)\n",
    "\n",
    "print('Validation accuracy at {}'.format(validation_accuracy))\n",
    "print('Test accuracy at {}'.format(test_accuracy))\n",
    "\n",
    "session.close()"
   ]
  },
  {
   "cell_type": "markdown",
   "metadata": {},
   "source": [
    "### Question 1 \n",
    "\n",
    "_Describe the techniques used to preprocess the data._"
   ]
  },
  {
   "cell_type": "markdown",
   "metadata": {},
   "source": [
    "**Answer:**"
   ]
  },
  {
   "cell_type": "code",
   "execution_count": null,
   "metadata": {
    "collapsed": true
   },
   "outputs": [],
   "source": [
    "### Generate data additional (if you want to!)\n",
    "### and split the data into training/validation/testing sets here.\n",
    "### Feel free to use as many code cells as needed."
   ]
  },
  {
   "cell_type": "markdown",
   "metadata": {},
   "source": [
    "### Question 2\n",
    "\n",
    "_Describe how you set up the training, validation and testing data for your model. If you generated additional data, why?_"
   ]
  },
  {
   "cell_type": "markdown",
   "metadata": {},
   "source": [
    "**Answer:**"
   ]
  },
  {
   "cell_type": "code",
   "execution_count": null,
   "metadata": {
    "collapsed": true
   },
   "outputs": [],
   "source": [
    "### Define your architecture here.\n",
    "### Feel free to use as many code cells as needed."
   ]
  },
  {
   "cell_type": "markdown",
   "metadata": {},
   "source": [
    "### Question 3\n",
    "\n",
    "_What does your final architecture look like? (Type of model, layers, sizes, connectivity, etc.)  For reference on how to build a deep neural network using TensorFlow, see [Deep Neural Network in TensorFlow\n",
    "](https://classroom.udacity.com/nanodegrees/nd013/parts/fbf77062-5703-404e-b60c-95b78b2f3f9e/modules/6df7ae49-c61c-4bb2-a23e-6527e69209ec/lessons/b516a270-8600-4f93-a0a3-20dfeabe5da6/concepts/83a3a2a2-a9bd-4b7b-95b0-eb924ab14432) from the classroom._\n"
   ]
  },
  {
   "cell_type": "markdown",
   "metadata": {},
   "source": [
    "**Answer:**"
   ]
  },
  {
   "cell_type": "code",
   "execution_count": null,
   "metadata": {
    "collapsed": true
   },
   "outputs": [],
   "source": [
    "### Train your model here.\n",
    "### Feel free to use as many code cells as needed."
   ]
  },
  {
   "cell_type": "markdown",
   "metadata": {},
   "source": [
    "### Question 4\n",
    "\n",
    "_How did you train your model? (Type of optimizer, batch size, epochs, hyperparameters, etc.)_\n"
   ]
  },
  {
   "cell_type": "markdown",
   "metadata": {},
   "source": [
    "**Answer:**"
   ]
  },
  {
   "cell_type": "markdown",
   "metadata": {},
   "source": [
    "### Question 5\n",
    "\n",
    "\n",
    "_What approach did you take in coming up with a solution to this problem?_"
   ]
  },
  {
   "cell_type": "markdown",
   "metadata": {},
   "source": [
    "**Answer:**"
   ]
  },
  {
   "cell_type": "markdown",
   "metadata": {},
   "source": [
    "---\n",
    "\n",
    "## Step 3: Test a Model on New Images\n",
    "\n",
    "Take several pictures of traffic signs that you find on the web or around you (at least five), and run them through your classifier on your computer to produce example results. The classifier might not recognize some local signs but it could prove interesting nonetheless.\n",
    "\n",
    "You may find `signnames.csv` useful as it contains mappings from the class id (integer) to the actual sign name."
   ]
  },
  {
   "cell_type": "markdown",
   "metadata": {},
   "source": [
    "### Implementation\n",
    "\n",
    "Use the code cell (or multiple code cells, if necessary) to implement the first step of your project. Once you have completed your implementation and are satisfied with the results, be sure to thoroughly answer the questions that follow."
   ]
  },
  {
   "cell_type": "code",
   "execution_count": null,
   "metadata": {
    "collapsed": true
   },
   "outputs": [],
   "source": [
    "### Load the images and plot them here.\n",
    "### Feel free to use as many code cells as needed."
   ]
  },
  {
   "cell_type": "markdown",
   "metadata": {},
   "source": [
    "### Question 6\n",
    "\n",
    "_Choose five candidate images of traffic signs and provide them in the report. Are there any particular qualities of the image(s) that might make classification difficult? It would be helpful to plot the images in the notebook._\n",
    "\n"
   ]
  },
  {
   "cell_type": "markdown",
   "metadata": {},
   "source": [
    "**Answer:**"
   ]
  },
  {
   "cell_type": "code",
   "execution_count": null,
   "metadata": {
    "collapsed": true
   },
   "outputs": [],
   "source": [
    "### Run the predictions here.\n",
    "### Feel free to use as many code cells as needed."
   ]
  },
  {
   "cell_type": "markdown",
   "metadata": {},
   "source": [
    "### Question 7\n",
    "\n",
    "_Is your model able to perform equally well on captured pictures or a live camera stream when compared to testing on the dataset?_\n"
   ]
  },
  {
   "cell_type": "markdown",
   "metadata": {},
   "source": [
    "**Answer:**"
   ]
  },
  {
   "cell_type": "code",
   "execution_count": null,
   "metadata": {
    "collapsed": true
   },
   "outputs": [],
   "source": [
    "### Visualize the softmax probabilities here.\n",
    "### Feel free to use as many code cells as needed."
   ]
  },
  {
   "cell_type": "markdown",
   "metadata": {},
   "source": [
    "### Question 8\n",
    "\n",
    "*Use the model's softmax probabilities to visualize the **certainty** of its predictions, [`tf.nn.top_k`](https://www.tensorflow.org/versions/r0.11/api_docs/python/nn.html#top_k) could prove helpful here. Which predictions is the model certain of? Uncertain? If the model was incorrect in its initial prediction, does the correct prediction appear in the top k? (k should be 5 at most)*\n"
   ]
  },
  {
   "cell_type": "markdown",
   "metadata": {},
   "source": [
    "**Answer:**"
   ]
  },
  {
   "cell_type": "markdown",
   "metadata": {},
   "source": [
    "### Question 9\n",
    "_If necessary, provide documentation for how an interface was built for your model to load and classify newly-acquired images._\n"
   ]
  },
  {
   "cell_type": "markdown",
   "metadata": {},
   "source": [
    "**Answer:**"
   ]
  },
  {
   "cell_type": "markdown",
   "metadata": {},
   "source": [
    "> **Note**: Once you have completed all of the code implementations and successfully answered each question above, you may finalize your work by exporting the iPython Notebook as an HTML document. You can do this by using the menu above and navigating to  \\n\",\n",
    "    \"**File -> Download as -> HTML (.html)**. Include the finished document along with this notebook as your submission."
   ]
  },
  {
   "cell_type": "code",
   "execution_count": null,
   "metadata": {
    "collapsed": true
   },
   "outputs": [],
   "source": []
  }
 ],
 "metadata": {
  "anaconda-cloud": {},
  "kernelspec": {
   "display_name": "Python [conda env:IntroToTensorFlow]",
   "language": "python",
   "name": "conda-env-IntroToTensorFlow-py"
  },
  "language_info": {
   "codemirror_mode": {
    "name": "ipython",
    "version": 3
   },
   "file_extension": ".py",
   "mimetype": "text/x-python",
   "name": "python",
   "nbconvert_exporter": "python",
   "pygments_lexer": "ipython3",
   "version": "3.5.2"
  }
 },
 "nbformat": 4,
 "nbformat_minor": 1
}
