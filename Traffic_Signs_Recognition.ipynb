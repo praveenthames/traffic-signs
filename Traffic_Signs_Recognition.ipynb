{
 "cells": [
  {
   "cell_type": "markdown",
   "metadata": {},
   "source": [
    "# Self-Driving Car Engineer Nanodegree\n",
    "\n",
    "## Deep Learning\n",
    "\n",
    "## Project: Build a Traffic Sign Recognition Classifier\n",
    "\n",
    "In this notebook, a template is provided for you to implement your functionality in stages which is required to successfully complete this project. If additional code is required that cannot be included in the notebook, be sure that the Python code is successfully imported and included in your submission, if necessary. Sections that begin with **'Implementation'** in the header indicate where you should begin your implementation for your project. Note that some sections of implementation are optional, and will be marked with **'Optional'** in the header.\n",
    "\n",
    "In addition to implementing code, there will be questions that you must answer which relate to the project and your implementation. Each section where you will answer a question is preceded by a **'Question'** header. Carefully read each question and provide thorough answers in the following text boxes that begin with **'Answer:'**. Your project submission will be evaluated based on your answers to each of the questions and the implementation you provide.\n",
    "\n",
    ">**Note:** Code and Markdown cells can be executed using the **Shift + Enter** keyboard shortcut. In addition, Markdown cells can be edited by typically double-clicking the cell to enter edit mode."
   ]
  },
  {
   "cell_type": "markdown",
   "metadata": {},
   "source": [
    "---\n",
    "\n",
    "## Step 1: Dataset Exploration\n",
    "\n",
    "Visualize the German Traffic Signs Dataset. This is open ended, some suggestions include: plotting traffic signs images, plotting the count of each sign, etc. Be creative!\n",
    "\n",
    "\n",
    "The pickled data is a dictionary with 4 key/value pairs:\n",
    "\n",
    "- features -> the images pixel values, (width, height, channels)\n",
    "- labels -> the label of the traffic sign\n",
    "- sizes -> the original width and height of the image, (width, height)\n",
    "- coords -> coordinates of a bounding box around the sign in the image, (x1, y1, x2, y2)"
   ]
  },
  {
   "cell_type": "code",
   "execution_count": 1,
   "metadata": {
    "collapsed": false
   },
   "outputs": [],
   "source": [
    "# Load pickled data\n",
    "import pickle\n",
    "\n",
    "# TODO: fill this in based on where you saved the training and testing data\n",
    "training_file = '/Users/praveen.subramanian/data/carnd/p2/traffic-signs-data/train.p'\n",
    "testing_file = '/Users/praveen.subramanian/data/carnd/p2/traffic-signs-data/test.p'\n",
    "\n",
    "with open(training_file, mode='rb') as f:\n",
    "    train = pickle.load(f)\n",
    "with open(testing_file, mode='rb') as f:\n",
    "    test = pickle.load(f)\n",
    "    \n",
    "X_train, y_train = train['features'], train['labels']\n",
    "X_test, y_test = test['features'], test['labels']"
   ]
  },
  {
   "cell_type": "code",
   "execution_count": 2,
   "metadata": {
    "collapsed": false
   },
   "outputs": [
    {
     "name": "stdout",
     "output_type": "stream",
     "text": [
      "Number of training examples = 39209\n",
      "Number of testing examples = 12630\n",
      "Image data shape = (32, 32, 3)\n",
      "Number of classes = 43\n"
     ]
    }
   ],
   "source": [
    "### To start off let's do a basic data summary.\n",
    "\n",
    "# TODO: number of training examples\n",
    "n_train = X_train.shape[0]\n",
    "\n",
    "# TODO: number of testing examples\n",
    "n_test = X_test.shape[0]\n",
    "\n",
    "# TODO: what's the shape of an image?\n",
    "image_shape = X_train[0].shape\n",
    "\n",
    "# TODO: how many classes are in the dataset\n",
    "n_classes = len(set(y_train))\n",
    "\n",
    "print(\"Number of training examples =\", n_train)\n",
    "print(\"Number of testing examples =\", n_test)\n",
    "print(\"Image data shape =\", image_shape)\n",
    "print(\"Number of classes =\", n_classes)"
   ]
  },
  {
   "cell_type": "code",
   "execution_count": 3,
   "metadata": {
    "collapsed": false
   },
   "outputs": [
    {
     "name": "stdout",
     "output_type": "stream",
     "text": [
      "Image data = (39209, 32, 32, 3)\n"
     ]
    }
   ],
   "source": [
    "### Data exploration visualization goes here.\n",
    "### Feel free to use as many code cells as needed.\n",
    "print(\"Image data =\", X_train.shape)\n",
    "#print(\"Image data =\", X_train[0][0])\n"
   ]
  },
  {
   "cell_type": "markdown",
   "metadata": {},
   "source": [
    "----\n",
    "\n",
    "## Step 2: Design and Test a Model Architecture\n",
    "\n",
    "Design and implement a deep learning model that learns to recognize traffic signs. Train and test your model on the [German Traffic Sign Dataset](http://benchmark.ini.rub.de/?section=gtsrb&subsection=dataset).\n",
    "\n",
    "There are various aspects to consider when thinking about this problem:\n",
    "\n",
    "- Your model can be derived from a deep feedforward net or a deep convolutional network.\n",
    "- Play around preprocessing techniques (normalization, rgb to grayscale, etc)\n",
    "- Number of examples per label (some have more than others).\n",
    "- Generate fake data.\n",
    "\n",
    "Here is an example of a [published baseline model on this problem](http://yann.lecun.com/exdb/publis/pdf/sermanet-ijcnn-11.pdf). It's not required to be familiar with the approach used in the paper but, it's good practice to try to read papers like these."
   ]
  },
  {
   "cell_type": "markdown",
   "metadata": {},
   "source": [
    "### Implementation\n",
    "\n",
    "Use the code cell (or multiple code cells, if necessary) to implement the first step of your project. Once you have completed your implementation and are satisfied with the results, be sure to thoroughly answer the questions that follow."
   ]
  },
  {
   "cell_type": "code",
   "execution_count": 4,
   "metadata": {
    "collapsed": false
   },
   "outputs": [
    {
     "name": "stdout",
     "output_type": "stream",
     "text": [
      "(32, 32, 3)\n",
      "(39209, 32, 32)\n",
      "Tests Passed!\n"
     ]
    }
   ],
   "source": [
    "### Preprocess the data here.\n",
    "### Feel free to use as many code cells as needed.\n",
    "import numpy as np\n",
    "from PIL import Image\n",
    "from sklearn.model_selection import train_test_split\n",
    "from sklearn.preprocessing import LabelBinarizer\n",
    "from sklearn.utils import resample\n",
    "import cv2\n",
    "\n",
    "#abc = np.squeeze(X_train,2)\n",
    "#https://www.mathworks.com/matlabcentral/answers/99136-how-do-i-convert-my-rgb-image-to-grayscale-without-using-the-image-processing-toolbox?requestedDomain=www.mathworks.com\n",
    "print(X_train[0].shape)\n",
    "#gray = 0.2989 * X_train[:,:,:,0] + 0.5870 * X_train[:,:,:,1] + 0.1140 * X_train[:,:,:,2]; \n",
    "#print(gray)\n",
    "\n",
    "gray = np.zeros((39209,32,32))\n",
    "for i in range(39209):\n",
    "    gray[i] = cv2.cvtColor( X_train[i], cv2.COLOR_RGB2GRAY )\n",
    "    \n",
    "print(gray.shape)\n",
    "\n",
    "#reshape\n",
    "gray = np.arange(40150016).reshape((39209,1024))\n",
    "\n",
    "test_gray = 0.2989 * X_test[:,:,:,0] + 0.5870 * X_test[:,:,:,1] + 0.1140 * X_test[:,:,:,2]; \n",
    "#print(test_gray[0][0])\n",
    "\n",
    "\n",
    "#reshape\n",
    "test_gray = np.arange(12933120).reshape((12630,1024))\n",
    "\n",
    "def normalize_greyscale(image_data):\n",
    "    \"\"\"\n",
    "    Normalize the image data with Min-Max scaling to a range of [0.1, 0.9]\n",
    "    :param image_data: The image data to be normalized\n",
    "    :return: Normalized image data\n",
    "    \"\"\"\n",
    "    min_max_scale = 0.1 + ((image_data-0)*(0.8))/(255 - 0)\n",
    "    return min_max_scale\n",
    "\n",
    "# Test Cases\n",
    "np.testing.assert_array_almost_equal(\n",
    "    normalize_greyscale(np.array([0, 1, 2, 3, 4, 5, 6, 7, 8, 9, 10, 255])),\n",
    "    [0.1, 0.103137254902, 0.106274509804, 0.109411764706, 0.112549019608, 0.11568627451, 0.118823529412, 0.121960784314,\n",
    "     0.125098039216, 0.128235294118, 0.13137254902, 0.9],\n",
    "    decimal=3)\n",
    "np.testing.assert_array_almost_equal(\n",
    "    normalize_greyscale(np.array([0, 1, 10, 20, 30, 40, 233, 244, 254,255])),\n",
    "    [0.1, 0.103137254902, 0.13137254902, 0.162745098039, 0.194117647059, 0.225490196078, 0.830980392157, 0.865490196078,\n",
    "     0.896862745098, 0.9])\n",
    "\n",
    "is_features_normal = False\n",
    "if not is_features_normal:\n",
    "    gray = normalize_greyscale(gray)\n",
    "    gray = normalize_greyscale(gray)\n",
    "    is_features_normal = True\n",
    "\n",
    "print('Tests Passed!')\n"
   ]
  },
  {
   "cell_type": "code",
   "execution_count": 5,
   "metadata": {
    "collapsed": false
   },
   "outputs": [
    {
     "name": "stdout",
     "output_type": "stream",
     "text": [
      "Labels One-Hot Encoded\n"
     ]
    }
   ],
   "source": [
    "is_labels_encod = False\n",
    "if not is_labels_encod:\n",
    "    # Turn labels into numbers and apply One-Hot Encoding\n",
    "    encoder = LabelBinarizer()\n",
    "    encoder.fit(y_train)\n",
    "    y_train = encoder.transform(y_train)\n",
    "    y_test = encoder.transform(y_test)\n",
    "\n",
    "    # Change to float32, so it can be multiplied against the features in TensorFlow, which are float32\n",
    "    y_train = y_train.astype(np.float32)\n",
    "    y_test = y_test.astype(np.float32)\n",
    "    is_labels_encod = True\n",
    "\n",
    "print('Labels One-Hot Encoded')"
   ]
  },
  {
   "cell_type": "code",
   "execution_count": 6,
   "metadata": {
    "collapsed": false
   },
   "outputs": [
    {
     "name": "stdout",
     "output_type": "stream",
     "text": [
      "Training features and labels randomized and split.\n",
      "(37248, 1024)\n",
      "(37248, 43)\n",
      "(1961, 1024)\n",
      "(1961, 43)\n",
      "(12630, 1024)\n"
     ]
    }
   ],
   "source": [
    "assert is_features_normal, 'You skipped the step to normalize the features'\n",
    "assert is_labels_encod, 'You skipped the step to One-Hot Encode the labels'\n",
    "\n",
    "# Get randomized datasets for training and validation\n",
    "train_features, valid_features, train_labels, valid_labels = train_test_split(\n",
    "    gray,\n",
    "    y_train,\n",
    "    test_size=0.05,\n",
    "    random_state=832289)\n",
    "\n",
    "print('Training features and labels randomized and split.')\n",
    "print(train_features.shape)\n",
    "print(train_labels.shape)\n",
    "print(valid_features.shape)\n",
    "print(valid_labels.shape)\n",
    "print(test_gray.shape)\n"
   ]
  },
  {
   "cell_type": "code",
   "execution_count": 7,
   "metadata": {
    "collapsed": false
   },
   "outputs": [
    {
     "name": "stdout",
     "output_type": "stream",
     "text": [
      "<tensorflow.python.ops.variables.Variable object at 0x13b779828>\n",
      "<tensorflow.python.ops.variables.Variable object at 0x13bb71ba8>\n"
     ]
    }
   ],
   "source": [
    "import tensorflow as tf\n",
    "\n",
    "features_count = 1024\n",
    "labels_count = 43\n",
    "\n",
    "# ToDo: Set the features and labels tensors\n",
    "features = tf.placeholder(tf.float32)\n",
    "labels = tf.placeholder(tf.float32)\n",
    "\n",
    "# ToDo: Set the weights and biases tensors\n",
    "weights = tf.Variable(tf.truncated_normal([features_count,labels_count]))\n",
    "biases = tf.Variable(tf.zeros([labels_count], tf.float32))\n",
    "print(weights)\n",
    "print(biases)\n"
   ]
  },
  {
   "cell_type": "code",
   "execution_count": 8,
   "metadata": {
    "collapsed": false
   },
   "outputs": [],
   "source": [
    "#Test Cases\n",
    "from tensorflow.python.ops.variables import Variable\n",
    "\n",
    "assert features._op.name.startswith('Placeholder'), 'features must be a placeholder'\n",
    "assert labels._op.name.startswith('Placeholder'), 'labels must be a placeholder'\n",
    "assert isinstance(weights, Variable), 'weights must be a TensorFlow variable'\n",
    "assert isinstance(biases, Variable), 'biases must be a TensorFlow variable'\n",
    "\n",
    "assert features._shape == None or (\\\n",
    "    features._shape.dims[0].value is None and\\\n",
    "    features._shape.dims[1].value in [None, 784]), 'The shape of features is incorrect'\n",
    "assert labels._shape in [None, 10], 'The shape of labels is incorrect'\n",
    "assert weights._variable._shape == (1024,43), 'The shape of weights is incorrect'\n",
    "assert biases._variable._shape == (43), 'The shape of biases is incorrect'\n",
    "\n",
    "assert features._dtype == tf.float32, 'features must be type float32'\n",
    "assert labels._dtype == tf.float32, 'labels must be type float32'"
   ]
  },
  {
   "cell_type": "code",
   "execution_count": 9,
   "metadata": {
    "collapsed": false
   },
   "outputs": [
    {
     "name": "stdout",
     "output_type": "stream",
     "text": [
      "features =  (37248, 1024)\n",
      "weights =  (1024, 43)\n",
      "biases =  (43,)\n",
      "Tensor(\"Add:0\", shape=(?, 43), dtype=float32)\n"
     ]
    }
   ],
   "source": [
    "# Feed dicts for training, validation, and test session\n",
    "train_feed_dict = {features: train_features, labels: train_labels}\n",
    "valid_feed_dict = {features: valid_features, labels: valid_labels}\n",
    "test_feed_dict = {features: test_gray, labels: y_test}\n",
    "\n",
    "# Linear Function WX + b\n",
    "matmul = tf.matmul(features, weights)\n",
    "logits = tf.add(matmul,biases)\n",
    "init = tf.initialize_all_variables()\n",
    "with tf.Session() as session:\n",
    "    session.run(init)\n",
    "    a = session.run(features, feed_dict=train_feed_dict)\n",
    "    b = session.run(weights)\n",
    "    c = session.run(biases)\n",
    "    print(\"features = \",a.shape)\n",
    "    print(\"weights = \",b.shape)\n",
    "    print(\"biases = \",c.shape)\n",
    "    session.run(logits, feed_dict=train_feed_dict)\n",
    "print(logits)\n"
   ]
  },
  {
   "cell_type": "code",
   "execution_count": 10,
   "metadata": {
    "collapsed": false
   },
   "outputs": [
    {
     "name": "stdout",
     "output_type": "stream",
     "text": [
      "Tests Passed!\n"
     ]
    }
   ],
   "source": [
    "prediction = tf.nn.softmax(logits)\n",
    "\n",
    "# Cross entropy\n",
    "#cross_entropy = -tf.reduce_sum(labels * tf.log(prediction), reduction_indices=1)\n",
    "cross_entropy = -tf.reduce_sum(labels * tf.log(tf.clip_by_value(prediction,1e-10,1.0)), \n",
    "                                             reduction_indices=[1])\n",
    "\n",
    "# Training loss\n",
    "loss = tf.reduce_mean(cross_entropy)\n",
    "\n",
    "# Create an operation that initializes all variables\n",
    "init = tf.initialize_all_variables()\n",
    "\n",
    "# Test Cases\n",
    "with tf.Session() as session:\n",
    "    session.run(init)\n",
    "    session.run(prediction,feed_dict=test_feed_dict)\n",
    "    session.run(loss, feed_dict=train_feed_dict)\n",
    "    session.run(loss, feed_dict=valid_feed_dict)\n",
    "    session.run(loss, feed_dict=test_feed_dict)\n",
    "    biases_data = session.run(biases)\n",
    "\n",
    "assert not np.count_nonzero(biases_data), 'biases must be zeros'\n",
    "\n",
    "print('Tests Passed!')"
   ]
  },
  {
   "cell_type": "code",
   "execution_count": 11,
   "metadata": {
    "collapsed": false
   },
   "outputs": [
    {
     "name": "stdout",
     "output_type": "stream",
     "text": [
      "Accuracy function created.\n"
     ]
    }
   ],
   "source": [
    "# Determine if the predictions are correct\n",
    "is_correct_prediction = tf.equal(tf.argmax(prediction, 1), tf.argmax(labels, 1))\n",
    "# Calculate the accuracy of the predictions\n",
    "accuracy = tf.reduce_mean(tf.cast(is_correct_prediction, tf.float32))\n",
    "\n",
    "print('Accuracy function created.')"
   ]
  },
  {
   "cell_type": "code",
   "execution_count": 13,
   "metadata": {
    "collapsed": false
   },
   "outputs": [
    {
     "name": "stderr",
     "output_type": "stream",
     "text": [
      "Epoch  1/100: 100%|██████████| 1863/1863 [00:12<00:00, 150.96batches/s]\n",
      "Epoch  2/100: 100%|██████████| 1863/1863 [00:12<00:00, 148.92batches/s]\n",
      "Epoch  3/100: 100%|██████████| 1863/1863 [00:12<00:00, 148.65batches/s]\n",
      "Epoch  4/100: 100%|██████████| 1863/1863 [00:12<00:00, 150.33batches/s]\n",
      "Epoch  5/100: 100%|██████████| 1863/1863 [00:12<00:00, 150.75batches/s]\n",
      "Epoch  6/100: 100%|██████████| 1863/1863 [00:12<00:00, 150.64batches/s]\n",
      "Epoch  7/100: 100%|██████████| 1863/1863 [00:12<00:00, 148.86batches/s]\n",
      "Epoch  8/100: 100%|██████████| 1863/1863 [00:12<00:00, 150.62batches/s]\n",
      "Epoch  9/100: 100%|██████████| 1863/1863 [00:12<00:00, 150.63batches/s]\n",
      "Epoch 10/100: 100%|██████████| 1863/1863 [00:12<00:00, 149.82batches/s]\n",
      "Epoch 11/100: 100%|██████████| 1863/1863 [00:12<00:00, 149.49batches/s]\n",
      "Epoch 12/100: 100%|██████████| 1863/1863 [00:12<00:00, 151.22batches/s]\n",
      "Epoch 13/100: 100%|██████████| 1863/1863 [00:12<00:00, 151.22batches/s]\n",
      "Epoch 14/100: 100%|██████████| 1863/1863 [00:12<00:00, 149.65batches/s]\n",
      "Epoch 15/100: 100%|██████████| 1863/1863 [00:12<00:00, 151.11batches/s]\n",
      "Epoch 16/100: 100%|██████████| 1863/1863 [00:12<00:00, 150.59batches/s]\n",
      "Epoch 17/100: 100%|██████████| 1863/1863 [00:12<00:00, 151.43batches/s]\n",
      "Epoch 18/100: 100%|██████████| 1863/1863 [00:12<00:00, 151.26batches/s]\n",
      "Epoch 19/100: 100%|██████████| 1863/1863 [00:12<00:00, 150.03batches/s]\n",
      "Epoch 20/100: 100%|██████████| 1863/1863 [00:12<00:00, 151.65batches/s]\n",
      "Epoch 21/100: 100%|██████████| 1863/1863 [00:12<00:00, 149.35batches/s]\n",
      "Epoch 22/100: 100%|██████████| 1863/1863 [00:12<00:00, 150.66batches/s]\n",
      "Epoch 23/100: 100%|██████████| 1863/1863 [00:12<00:00, 148.71batches/s]\n",
      "Epoch 24/100: 100%|██████████| 1863/1863 [00:12<00:00, 151.67batches/s]\n",
      "Epoch 25/100: 100%|██████████| 1863/1863 [00:12<00:00, 150.09batches/s]\n",
      "Epoch 26/100: 100%|██████████| 1863/1863 [00:12<00:00, 150.83batches/s]\n",
      "Epoch 27/100: 100%|██████████| 1863/1863 [00:12<00:00, 148.97batches/s]\n",
      "Epoch 28/100: 100%|██████████| 1863/1863 [00:12<00:00, 151.39batches/s]\n",
      "Epoch 29/100: 100%|██████████| 1863/1863 [00:12<00:00, 150.66batches/s]\n",
      "Epoch 30/100: 100%|██████████| 1863/1863 [00:12<00:00, 148.20batches/s]\n",
      "Epoch 31/100: 100%|██████████| 1863/1863 [00:12<00:00, 150.77batches/s]\n",
      "Epoch 32/100: 100%|██████████| 1863/1863 [00:12<00:00, 149.70batches/s]\n",
      "Epoch 33/100: 100%|██████████| 1863/1863 [00:12<00:00, 150.64batches/s]\n",
      "Epoch 34/100: 100%|██████████| 1863/1863 [00:12<00:00, 150.25batches/s]\n",
      "Epoch 35/100: 100%|██████████| 1863/1863 [00:12<00:00, 148.84batches/s]\n",
      "Epoch 36/100: 100%|██████████| 1863/1863 [00:12<00:00, 148.84batches/s]\n",
      "Epoch 37/100: 100%|██████████| 1863/1863 [00:12<00:00, 146.83batches/s]\n",
      "Epoch 38/100: 100%|██████████| 1863/1863 [00:12<00:00, 150.52batches/s]\n",
      "Epoch 39/100: 100%|██████████| 1863/1863 [00:12<00:00, 151.45batches/s]\n",
      "Epoch 40/100: 100%|██████████| 1863/1863 [00:12<00:00, 149.74batches/s]\n",
      "Epoch 41/100: 100%|██████████| 1863/1863 [00:12<00:00, 150.98batches/s]\n",
      "Epoch 42/100: 100%|██████████| 1863/1863 [00:12<00:00, 150.02batches/s]\n",
      "Epoch 43/100: 100%|██████████| 1863/1863 [00:12<00:00, 150.44batches/s]\n",
      "Epoch 44/100: 100%|██████████| 1863/1863 [00:12<00:00, 150.13batches/s]\n",
      "Epoch 45/100: 100%|██████████| 1863/1863 [00:12<00:00, 148.46batches/s]\n",
      "Epoch 46/100: 100%|██████████| 1863/1863 [00:12<00:00, 146.84batches/s]\n",
      "Epoch 47/100: 100%|██████████| 1863/1863 [00:12<00:00, 149.10batches/s]\n",
      "Epoch 48/100: 100%|██████████| 1863/1863 [00:12<00:00, 149.19batches/s]\n",
      "Epoch 49/100: 100%|██████████| 1863/1863 [00:12<00:00, 145.21batches/s]\n",
      "Epoch 50/100: 100%|██████████| 1863/1863 [00:12<00:00, 143.50batches/s]\n",
      "Epoch 51/100: 100%|██████████| 1863/1863 [00:12<00:00, 153.57batches/s]\n",
      "Epoch 52/100: 100%|██████████| 1863/1863 [00:12<00:00, 149.07batches/s]\n",
      "Epoch 53/100: 100%|██████████| 1863/1863 [00:12<00:00, 147.27batches/s]\n",
      "Epoch 54/100: 100%|██████████| 1863/1863 [00:12<00:00, 149.87batches/s]\n",
      "Epoch 55/100: 100%|██████████| 1863/1863 [00:12<00:00, 151.19batches/s]\n",
      "Epoch 56/100: 100%|██████████| 1863/1863 [00:12<00:00, 146.13batches/s]\n",
      "Epoch 57/100: 100%|██████████| 1863/1863 [00:12<00:00, 149.69batches/s]\n",
      "Epoch 58/100: 100%|██████████| 1863/1863 [00:12<00:00, 148.35batches/s]\n",
      "Epoch 59/100: 100%|██████████| 1863/1863 [00:12<00:00, 148.63batches/s]\n",
      "Epoch 60/100: 100%|██████████| 1863/1863 [00:12<00:00, 148.05batches/s]\n",
      "Epoch 61/100: 100%|██████████| 1863/1863 [00:12<00:00, 149.35batches/s]\n",
      "Epoch 62/100: 100%|██████████| 1863/1863 [00:12<00:00, 147.27batches/s]\n",
      "Epoch 63/100: 100%|██████████| 1863/1863 [00:12<00:00, 147.48batches/s]\n",
      "Epoch 64/100: 100%|██████████| 1863/1863 [00:12<00:00, 149.97batches/s]\n",
      "Epoch 65/100: 100%|██████████| 1863/1863 [00:12<00:00, 149.11batches/s]\n",
      "Epoch 66/100: 100%|██████████| 1863/1863 [00:12<00:00, 149.14batches/s]\n",
      "Epoch 67/100: 100%|██████████| 1863/1863 [00:12<00:00, 149.41batches/s]\n",
      "Epoch 68/100: 100%|██████████| 1863/1863 [00:12<00:00, 148.88batches/s]\n",
      "Epoch 69/100: 100%|██████████| 1863/1863 [00:12<00:00, 146.74batches/s]\n",
      "Epoch 70/100: 100%|██████████| 1863/1863 [00:12<00:00, 147.85batches/s]\n",
      "Epoch 71/100: 100%|██████████| 1863/1863 [00:12<00:00, 148.55batches/s]\n",
      "Epoch 72/100: 100%|██████████| 1863/1863 [00:12<00:00, 147.73batches/s]\n",
      "Epoch 73/100: 100%|██████████| 1863/1863 [00:12<00:00, 148.52batches/s]\n",
      "Epoch 74/100: 100%|██████████| 1863/1863 [00:12<00:00, 148.89batches/s]\n",
      "Epoch 75/100: 100%|██████████| 1863/1863 [00:12<00:00, 148.55batches/s]\n",
      "Epoch 76/100: 100%|██████████| 1863/1863 [00:12<00:00, 148.83batches/s]\n",
      "Epoch 77/100: 100%|██████████| 1863/1863 [00:12<00:00, 146.88batches/s]\n",
      "Epoch 78/100: 100%|██████████| 1863/1863 [00:12<00:00, 146.66batches/s]\n",
      "Epoch 79/100: 100%|██████████| 1863/1863 [00:12<00:00, 152.26batches/s]\n",
      "Epoch 80/100: 100%|██████████| 1863/1863 [00:12<00:00, 147.22batches/s]\n",
      "Epoch 81/100: 100%|██████████| 1863/1863 [00:12<00:00, 147.99batches/s]\n",
      "Epoch 82/100: 100%|██████████| 1863/1863 [00:12<00:00, 143.68batches/s]\n",
      "Epoch 83/100: 100%|██████████| 1863/1863 [00:12<00:00, 147.64batches/s]\n",
      "Epoch 84/100: 100%|██████████| 1863/1863 [00:12<00:00, 145.36batches/s]\n",
      "Epoch 85/100: 100%|██████████| 1863/1863 [00:12<00:00, 143.55batches/s]\n",
      "Epoch 86/100: 100%|██████████| 1863/1863 [00:12<00:00, 147.49batches/s]\n",
      "Epoch 87/100: 100%|██████████| 1863/1863 [00:12<00:00, 148.40batches/s]\n",
      "Epoch 88/100: 100%|██████████| 1863/1863 [00:12<00:00, 148.05batches/s]\n",
      "Epoch 89/100: 100%|██████████| 1863/1863 [00:12<00:00, 147.66batches/s]\n",
      "Epoch 90/100: 100%|██████████| 1863/1863 [00:12<00:00, 150.04batches/s]\n",
      "Epoch 91/100: 100%|██████████| 1863/1863 [00:12<00:00, 148.56batches/s]\n",
      "Epoch 92/100: 100%|██████████| 1863/1863 [00:12<00:00, 150.70batches/s]\n",
      "Epoch 93/100: 100%|██████████| 1863/1863 [00:12<00:00, 148.82batches/s]\n",
      "Epoch 94/100: 100%|██████████| 1863/1863 [00:12<00:00, 147.06batches/s]\n",
      "Epoch 95/100: 100%|██████████| 1863/1863 [00:12<00:00, 149.59batches/s]\n",
      "Epoch 96/100: 100%|██████████| 1863/1863 [00:12<00:00, 147.46batches/s]\n",
      "Epoch 97/100: 100%|██████████| 1863/1863 [00:12<00:00, 150.49batches/s]\n",
      "Epoch 98/100: 100%|██████████| 1863/1863 [00:12<00:00, 148.65batches/s]\n",
      "Epoch 99/100: 100%|██████████| 1863/1863 [00:12<00:00, 149.11batches/s]\n",
      "Epoch 100/100: 100%|██████████| 1863/1863 [00:12<00:00, 144.69batches/s]"
     ]
    },
    {
     "name": "stdout",
     "output_type": "stream",
     "text": [
      "Validation accuracy at 0.00662927096709609\n"
     ]
    },
    {
     "name": "stderr",
     "output_type": "stream",
     "text": [
      "\n"
     ]
    }
   ],
   "source": [
    "import math\n",
    "from tqdm import tqdm\n",
    "\n",
    "# ToDo: Find the best parameters for each configuration\n",
    "epochs = 100\n",
    "batch_size = 20\n",
    "learning_rate = .24\n",
    "\n",
    "# Gradient Descent\n",
    "optimizer = tf.train.GradientDescentOptimizer(learning_rate).minimize(loss)    \n",
    "\n",
    "# The accuracy measured against the validation set\n",
    "validation_accuracy = 0.0\n",
    "\n",
    "# Measurements use for graphing loss and accuracy\n",
    "log_batch_step = 50\n",
    "batches = []\n",
    "loss_batch = []\n",
    "train_acc_batch = []\n",
    "valid_acc_batch = []\n",
    "\n",
    "with tf.Session() as session:\n",
    "    session.run(init)\n",
    "    batch_count = int(math.ceil(len(train_features)/batch_size))\n",
    "\n",
    "    for epoch_i in range(epochs):\n",
    "        \n",
    "        # Progress bar\n",
    "        batches_pbar = tqdm(range(batch_count), desc='Epoch {:>2}/{}'.format(epoch_i+1, epochs), unit='batches')\n",
    "        \n",
    "        # The training cycle\n",
    "        for batch_i in batches_pbar:\n",
    "            # Get a batch of training features and labels\n",
    "            batch_start = batch_i*batch_size\n",
    "            batch_features = train_features[batch_start:batch_start + batch_size]\n",
    "            batch_labels = train_labels[batch_start:batch_start + batch_size]\n",
    "\n",
    "            # Run optimizer and get loss\n",
    "            _, l = session.run(\n",
    "                [optimizer, loss],\n",
    "                feed_dict={features: batch_features, labels: batch_labels})\n",
    "\n",
    "            # Log every 50 batches\n",
    "            if not batch_i % log_batch_step:\n",
    "                # Calculate Training and Validation accuracy\n",
    "                training_accuracy = session.run(accuracy, feed_dict=train_feed_dict)\n",
    "                validation_accuracy = session.run(accuracy, feed_dict=valid_feed_dict)\n",
    "\n",
    "                # Log batches\n",
    "                previous_batch = batches[-1] if batches else 0\n",
    "                batches.append(log_batch_step + previous_batch)\n",
    "                loss_batch.append(l)\n",
    "                train_acc_batch.append(training_accuracy)\n",
    "                valid_acc_batch.append(validation_accuracy)\n",
    "\n",
    "        # Check accuracy against Validation data\n",
    "        validation_accuracy = session.run(accuracy, feed_dict=valid_feed_dict)\n",
    "\n",
    "\n",
    "print('Validation accuracy at {}'.format(validation_accuracy))"
   ]
  },
  {
   "cell_type": "markdown",
   "metadata": {},
   "source": [
    "### Question 1 \n",
    "\n",
    "_Describe the techniques used to preprocess the data._"
   ]
  },
  {
   "cell_type": "markdown",
   "metadata": {},
   "source": [
    "**Answer:**"
   ]
  },
  {
   "cell_type": "code",
   "execution_count": null,
   "metadata": {
    "collapsed": true
   },
   "outputs": [],
   "source": [
    "### Generate data additional (if you want to!)\n",
    "### and split the data into training/validation/testing sets here.\n",
    "### Feel free to use as many code cells as needed."
   ]
  },
  {
   "cell_type": "markdown",
   "metadata": {},
   "source": [
    "### Question 2\n",
    "\n",
    "_Describe how you set up the training, validation and testing data for your model. If you generated additional data, why?_"
   ]
  },
  {
   "cell_type": "markdown",
   "metadata": {},
   "source": [
    "**Answer:**"
   ]
  },
  {
   "cell_type": "code",
   "execution_count": null,
   "metadata": {
    "collapsed": true
   },
   "outputs": [],
   "source": [
    "### Define your architecture here.\n",
    "### Feel free to use as many code cells as needed."
   ]
  },
  {
   "cell_type": "markdown",
   "metadata": {},
   "source": [
    "### Question 3\n",
    "\n",
    "_What does your final architecture look like? (Type of model, layers, sizes, connectivity, etc.)  For reference on how to build a deep neural network using TensorFlow, see [Deep Neural Network in TensorFlow\n",
    "](https://classroom.udacity.com/nanodegrees/nd013/parts/fbf77062-5703-404e-b60c-95b78b2f3f9e/modules/6df7ae49-c61c-4bb2-a23e-6527e69209ec/lessons/b516a270-8600-4f93-a0a3-20dfeabe5da6/concepts/83a3a2a2-a9bd-4b7b-95b0-eb924ab14432) from the classroom._\n"
   ]
  },
  {
   "cell_type": "markdown",
   "metadata": {},
   "source": [
    "**Answer:**"
   ]
  },
  {
   "cell_type": "code",
   "execution_count": null,
   "metadata": {
    "collapsed": true
   },
   "outputs": [],
   "source": [
    "### Train your model here.\n",
    "### Feel free to use as many code cells as needed."
   ]
  },
  {
   "cell_type": "markdown",
   "metadata": {},
   "source": [
    "### Question 4\n",
    "\n",
    "_How did you train your model? (Type of optimizer, batch size, epochs, hyperparameters, etc.)_\n"
   ]
  },
  {
   "cell_type": "markdown",
   "metadata": {},
   "source": [
    "**Answer:**"
   ]
  },
  {
   "cell_type": "markdown",
   "metadata": {},
   "source": [
    "### Question 5\n",
    "\n",
    "\n",
    "_What approach did you take in coming up with a solution to this problem?_"
   ]
  },
  {
   "cell_type": "markdown",
   "metadata": {},
   "source": [
    "**Answer:**"
   ]
  },
  {
   "cell_type": "markdown",
   "metadata": {},
   "source": [
    "---\n",
    "\n",
    "## Step 3: Test a Model on New Images\n",
    "\n",
    "Take several pictures of traffic signs that you find on the web or around you (at least five), and run them through your classifier on your computer to produce example results. The classifier might not recognize some local signs but it could prove interesting nonetheless.\n",
    "\n",
    "You may find `signnames.csv` useful as it contains mappings from the class id (integer) to the actual sign name."
   ]
  },
  {
   "cell_type": "markdown",
   "metadata": {},
   "source": [
    "### Implementation\n",
    "\n",
    "Use the code cell (or multiple code cells, if necessary) to implement the first step of your project. Once you have completed your implementation and are satisfied with the results, be sure to thoroughly answer the questions that follow."
   ]
  },
  {
   "cell_type": "code",
   "execution_count": null,
   "metadata": {
    "collapsed": true
   },
   "outputs": [],
   "source": [
    "### Load the images and plot them here.\n",
    "### Feel free to use as many code cells as needed."
   ]
  },
  {
   "cell_type": "markdown",
   "metadata": {},
   "source": [
    "### Question 6\n",
    "\n",
    "_Choose five candidate images of traffic signs and provide them in the report. Are there any particular qualities of the image(s) that might make classification difficult? It would be helpful to plot the images in the notebook._\n",
    "\n"
   ]
  },
  {
   "cell_type": "markdown",
   "metadata": {},
   "source": [
    "**Answer:**"
   ]
  },
  {
   "cell_type": "code",
   "execution_count": null,
   "metadata": {
    "collapsed": true
   },
   "outputs": [],
   "source": [
    "### Run the predictions here.\n",
    "### Feel free to use as many code cells as needed."
   ]
  },
  {
   "cell_type": "markdown",
   "metadata": {},
   "source": [
    "### Question 7\n",
    "\n",
    "_Is your model able to perform equally well on captured pictures or a live camera stream when compared to testing on the dataset?_\n"
   ]
  },
  {
   "cell_type": "markdown",
   "metadata": {},
   "source": [
    "**Answer:**"
   ]
  },
  {
   "cell_type": "code",
   "execution_count": null,
   "metadata": {
    "collapsed": true
   },
   "outputs": [],
   "source": [
    "### Visualize the softmax probabilities here.\n",
    "### Feel free to use as many code cells as needed."
   ]
  },
  {
   "cell_type": "markdown",
   "metadata": {},
   "source": [
    "### Question 8\n",
    "\n",
    "*Use the model's softmax probabilities to visualize the **certainty** of its predictions, [`tf.nn.top_k`](https://www.tensorflow.org/versions/r0.11/api_docs/python/nn.html#top_k) could prove helpful here. Which predictions is the model certain of? Uncertain? If the model was incorrect in its initial prediction, does the correct prediction appear in the top k? (k should be 5 at most)*\n"
   ]
  },
  {
   "cell_type": "markdown",
   "metadata": {},
   "source": [
    "**Answer:**"
   ]
  },
  {
   "cell_type": "markdown",
   "metadata": {},
   "source": [
    "### Question 9\n",
    "_If necessary, provide documentation for how an interface was built for your model to load and classify newly-acquired images._\n"
   ]
  },
  {
   "cell_type": "markdown",
   "metadata": {},
   "source": [
    "**Answer:**"
   ]
  },
  {
   "cell_type": "markdown",
   "metadata": {},
   "source": [
    "> **Note**: Once you have completed all of the code implementations and successfully answered each question above, you may finalize your work by exporting the iPython Notebook as an HTML document. You can do this by using the menu above and navigating to  \\n\",\n",
    "    \"**File -> Download as -> HTML (.html)**. Include the finished document along with this notebook as your submission."
   ]
  },
  {
   "cell_type": "code",
   "execution_count": null,
   "metadata": {
    "collapsed": true
   },
   "outputs": [],
   "source": []
  }
 ],
 "metadata": {
  "anaconda-cloud": {},
  "kernelspec": {
   "display_name": "Python [default]",
   "language": "python",
   "name": "python3"
  },
  "language_info": {
   "codemirror_mode": {
    "name": "ipython",
    "version": 3
   },
   "file_extension": ".py",
   "mimetype": "text/x-python",
   "name": "python",
   "nbconvert_exporter": "python",
   "pygments_lexer": "ipython3",
   "version": "3.5.2"
  }
 },
 "nbformat": 4,
 "nbformat_minor": 1
}
